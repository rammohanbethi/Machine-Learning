{
 "cells": [
  {
   "cell_type": "code",
   "execution_count": 1,
   "metadata": {},
   "outputs": [],
   "source": [
    "import numpy as np\n",
    "import pandas as pd\n",
    "import matplotlib.pyplot as plt"
   ]
  },
  {
   "cell_type": "code",
   "execution_count": 2,
   "metadata": {},
   "outputs": [
    {
     "name": "stdout",
     "output_type": "stream",
     "text": [
      "<class 'pandas.core.frame.DataFrame'>\n",
      "RangeIndex: 470 entries, 0 to 469\n",
      "Data columns (total 18 columns):\n",
      "id         470 non-null int64\n",
      "DGN        470 non-null object\n",
      "PRE4       470 non-null float64\n",
      "PRE5       470 non-null float64\n",
      "PRE6       470 non-null object\n",
      "PRE7       470 non-null object\n",
      "PRE8       470 non-null object\n",
      "PRE9       470 non-null object\n",
      "PRE10      470 non-null object\n",
      "PRE11      470 non-null object\n",
      "PRE14      470 non-null object\n",
      "PRE17      470 non-null object\n",
      "PRE19      470 non-null object\n",
      "PRE25      470 non-null object\n",
      "PRE30      470 non-null object\n",
      "PRE32      470 non-null object\n",
      "AGE        470 non-null int64\n",
      "Risk1Yr    470 non-null object\n",
      "dtypes: float64(2), int64(2), object(14)\n",
      "memory usage: 66.2+ KB\n"
     ]
    }
   ],
   "source": [
    "df=pd.read_csv(r\"E:\\Startup\\Dataset\\thorasis\\ThoraricSurgery_orig1.csv\")\n",
    "df.info()"
   ]
  },
  {
   "cell_type": "code",
   "execution_count": 3,
   "metadata": {},
   "outputs": [
    {
     "data": {
      "text/html": [
       "<div>\n",
       "<style scoped>\n",
       "    .dataframe tbody tr th:only-of-type {\n",
       "        vertical-align: middle;\n",
       "    }\n",
       "\n",
       "    .dataframe tbody tr th {\n",
       "        vertical-align: top;\n",
       "    }\n",
       "\n",
       "    .dataframe thead th {\n",
       "        text-align: right;\n",
       "    }\n",
       "</style>\n",
       "<table border=\"1\" class=\"dataframe\">\n",
       "  <thead>\n",
       "    <tr style=\"text-align: right;\">\n",
       "      <th></th>\n",
       "      <th>id</th>\n",
       "      <th>DGN</th>\n",
       "      <th>PRE4</th>\n",
       "      <th>PRE5</th>\n",
       "      <th>PRE6</th>\n",
       "      <th>PRE7</th>\n",
       "      <th>PRE8</th>\n",
       "      <th>PRE9</th>\n",
       "      <th>PRE10</th>\n",
       "      <th>PRE11</th>\n",
       "      <th>PRE14</th>\n",
       "      <th>PRE17</th>\n",
       "      <th>PRE19</th>\n",
       "      <th>PRE25</th>\n",
       "      <th>PRE30</th>\n",
       "      <th>PRE32</th>\n",
       "      <th>AGE</th>\n",
       "      <th>Risk1Yr</th>\n",
       "    </tr>\n",
       "  </thead>\n",
       "  <tbody>\n",
       "    <tr>\n",
       "      <th>0</th>\n",
       "      <td>1</td>\n",
       "      <td>DGN2</td>\n",
       "      <td>2.88</td>\n",
       "      <td>2.16</td>\n",
       "      <td>PRZ1</td>\n",
       "      <td>F</td>\n",
       "      <td>F</td>\n",
       "      <td>F</td>\n",
       "      <td>T</td>\n",
       "      <td>T</td>\n",
       "      <td>OC14</td>\n",
       "      <td>F</td>\n",
       "      <td>F</td>\n",
       "      <td>F</td>\n",
       "      <td>T</td>\n",
       "      <td>F</td>\n",
       "      <td>60</td>\n",
       "      <td>F</td>\n",
       "    </tr>\n",
       "    <tr>\n",
       "      <th>1</th>\n",
       "      <td>2</td>\n",
       "      <td>DGN3</td>\n",
       "      <td>3.40</td>\n",
       "      <td>1.88</td>\n",
       "      <td>PRZ0</td>\n",
       "      <td>F</td>\n",
       "      <td>F</td>\n",
       "      <td>F</td>\n",
       "      <td>F</td>\n",
       "      <td>F</td>\n",
       "      <td>OC12</td>\n",
       "      <td>F</td>\n",
       "      <td>F</td>\n",
       "      <td>F</td>\n",
       "      <td>T</td>\n",
       "      <td>F</td>\n",
       "      <td>51</td>\n",
       "      <td>F</td>\n",
       "    </tr>\n",
       "    <tr>\n",
       "      <th>2</th>\n",
       "      <td>3</td>\n",
       "      <td>DGN3</td>\n",
       "      <td>2.76</td>\n",
       "      <td>2.08</td>\n",
       "      <td>PRZ1</td>\n",
       "      <td>F</td>\n",
       "      <td>F</td>\n",
       "      <td>F</td>\n",
       "      <td>T</td>\n",
       "      <td>F</td>\n",
       "      <td>OC11</td>\n",
       "      <td>F</td>\n",
       "      <td>F</td>\n",
       "      <td>F</td>\n",
       "      <td>T</td>\n",
       "      <td>F</td>\n",
       "      <td>59</td>\n",
       "      <td>F</td>\n",
       "    </tr>\n",
       "    <tr>\n",
       "      <th>3</th>\n",
       "      <td>4</td>\n",
       "      <td>DGN3</td>\n",
       "      <td>3.68</td>\n",
       "      <td>3.04</td>\n",
       "      <td>PRZ0</td>\n",
       "      <td>F</td>\n",
       "      <td>F</td>\n",
       "      <td>F</td>\n",
       "      <td>F</td>\n",
       "      <td>F</td>\n",
       "      <td>OC11</td>\n",
       "      <td>F</td>\n",
       "      <td>F</td>\n",
       "      <td>F</td>\n",
       "      <td>F</td>\n",
       "      <td>F</td>\n",
       "      <td>54</td>\n",
       "      <td>F</td>\n",
       "    </tr>\n",
       "    <tr>\n",
       "      <th>4</th>\n",
       "      <td>5</td>\n",
       "      <td>DGN3</td>\n",
       "      <td>2.44</td>\n",
       "      <td>0.96</td>\n",
       "      <td>PRZ2</td>\n",
       "      <td>F</td>\n",
       "      <td>T</td>\n",
       "      <td>F</td>\n",
       "      <td>T</td>\n",
       "      <td>T</td>\n",
       "      <td>OC11</td>\n",
       "      <td>F</td>\n",
       "      <td>F</td>\n",
       "      <td>F</td>\n",
       "      <td>T</td>\n",
       "      <td>F</td>\n",
       "      <td>73</td>\n",
       "      <td>T</td>\n",
       "    </tr>\n",
       "  </tbody>\n",
       "</table>\n",
       "</div>"
      ],
      "text/plain": [
       "   id   DGN  PRE4  PRE5  PRE6 PRE7 PRE8 PRE9 PRE10 PRE11 PRE14 PRE17 PRE19  \\\n",
       "0   1  DGN2  2.88  2.16  PRZ1    F    F    F     T     T  OC14     F     F   \n",
       "1   2  DGN3  3.40  1.88  PRZ0    F    F    F     F     F  OC12     F     F   \n",
       "2   3  DGN3  2.76  2.08  PRZ1    F    F    F     T     F  OC11     F     F   \n",
       "3   4  DGN3  3.68  3.04  PRZ0    F    F    F     F     F  OC11     F     F   \n",
       "4   5  DGN3  2.44  0.96  PRZ2    F    T    F     T     T  OC11     F     F   \n",
       "\n",
       "  PRE25 PRE30 PRE32  AGE Risk1Yr  \n",
       "0     F     T     F   60       F  \n",
       "1     F     T     F   51       F  \n",
       "2     F     T     F   59       F  \n",
       "3     F     F     F   54       F  \n",
       "4     F     T     F   73       T  "
      ]
     },
     "execution_count": 3,
     "metadata": {},
     "output_type": "execute_result"
    }
   ],
   "source": [
    "df.head()"
   ]
  },
  {
   "cell_type": "code",
   "execution_count": 4,
   "metadata": {},
   "outputs": [],
   "source": [
    "df[['PRE7', 'PRE8', 'PRE9', 'PRE10', 'PRE11', 'PRE17', 'PRE19', 'PRE25', 'PRE30', 'PRE32', 'Risk1Yr']] = \\\n",
    "(df[['PRE7', 'PRE8', 'PRE9', 'PRE10', 'PRE11', 'PRE17', 'PRE19', 'PRE25', 'PRE30', 'PRE32', 'Risk1Yr']] == 'T').astype(int)"
   ]
  },
  {
   "cell_type": "code",
   "execution_count": 5,
   "metadata": {},
   "outputs": [],
   "source": [
    "df['DGN'] = df.DGN.str[-1:].astype(int)\n",
    "df['PRE6'] = df.PRE6.str[-1:].astype(int)\n",
    "df['PRE14'] = df.PRE14.str[-1:].astype(int)"
   ]
  },
  {
   "cell_type": "code",
   "execution_count": 6,
   "metadata": {},
   "outputs": [
    {
     "data": {
      "text/html": [
       "<div>\n",
       "<style scoped>\n",
       "    .dataframe tbody tr th:only-of-type {\n",
       "        vertical-align: middle;\n",
       "    }\n",
       "\n",
       "    .dataframe tbody tr th {\n",
       "        vertical-align: top;\n",
       "    }\n",
       "\n",
       "    .dataframe thead th {\n",
       "        text-align: right;\n",
       "    }\n",
       "</style>\n",
       "<table border=\"1\" class=\"dataframe\">\n",
       "  <thead>\n",
       "    <tr style=\"text-align: right;\">\n",
       "      <th></th>\n",
       "      <th>DGN</th>\n",
       "      <th>PRE4</th>\n",
       "      <th>PRE5</th>\n",
       "      <th>PRE6</th>\n",
       "      <th>PRE7</th>\n",
       "      <th>PRE8</th>\n",
       "      <th>PRE9</th>\n",
       "      <th>PRE10</th>\n",
       "      <th>PRE11</th>\n",
       "      <th>PRE14</th>\n",
       "      <th>PRE17</th>\n",
       "      <th>PRE19</th>\n",
       "      <th>PRE25</th>\n",
       "      <th>PRE30</th>\n",
       "      <th>PRE32</th>\n",
       "      <th>AGE</th>\n",
       "      <th>Risk1Yr</th>\n",
       "    </tr>\n",
       "  </thead>\n",
       "  <tbody>\n",
       "    <tr>\n",
       "      <th>0</th>\n",
       "      <td>2</td>\n",
       "      <td>2.88</td>\n",
       "      <td>2.16</td>\n",
       "      <td>1</td>\n",
       "      <td>0</td>\n",
       "      <td>0</td>\n",
       "      <td>0</td>\n",
       "      <td>1</td>\n",
       "      <td>1</td>\n",
       "      <td>4</td>\n",
       "      <td>0</td>\n",
       "      <td>0</td>\n",
       "      <td>0</td>\n",
       "      <td>1</td>\n",
       "      <td>0</td>\n",
       "      <td>60</td>\n",
       "      <td>0</td>\n",
       "    </tr>\n",
       "    <tr>\n",
       "      <th>1</th>\n",
       "      <td>3</td>\n",
       "      <td>3.40</td>\n",
       "      <td>1.88</td>\n",
       "      <td>0</td>\n",
       "      <td>0</td>\n",
       "      <td>0</td>\n",
       "      <td>0</td>\n",
       "      <td>0</td>\n",
       "      <td>0</td>\n",
       "      <td>2</td>\n",
       "      <td>0</td>\n",
       "      <td>0</td>\n",
       "      <td>0</td>\n",
       "      <td>1</td>\n",
       "      <td>0</td>\n",
       "      <td>51</td>\n",
       "      <td>0</td>\n",
       "    </tr>\n",
       "    <tr>\n",
       "      <th>2</th>\n",
       "      <td>3</td>\n",
       "      <td>2.76</td>\n",
       "      <td>2.08</td>\n",
       "      <td>1</td>\n",
       "      <td>0</td>\n",
       "      <td>0</td>\n",
       "      <td>0</td>\n",
       "      <td>1</td>\n",
       "      <td>0</td>\n",
       "      <td>1</td>\n",
       "      <td>0</td>\n",
       "      <td>0</td>\n",
       "      <td>0</td>\n",
       "      <td>1</td>\n",
       "      <td>0</td>\n",
       "      <td>59</td>\n",
       "      <td>0</td>\n",
       "    </tr>\n",
       "    <tr>\n",
       "      <th>3</th>\n",
       "      <td>3</td>\n",
       "      <td>3.68</td>\n",
       "      <td>3.04</td>\n",
       "      <td>0</td>\n",
       "      <td>0</td>\n",
       "      <td>0</td>\n",
       "      <td>0</td>\n",
       "      <td>0</td>\n",
       "      <td>0</td>\n",
       "      <td>1</td>\n",
       "      <td>0</td>\n",
       "      <td>0</td>\n",
       "      <td>0</td>\n",
       "      <td>0</td>\n",
       "      <td>0</td>\n",
       "      <td>54</td>\n",
       "      <td>0</td>\n",
       "    </tr>\n",
       "    <tr>\n",
       "      <th>4</th>\n",
       "      <td>3</td>\n",
       "      <td>2.44</td>\n",
       "      <td>0.96</td>\n",
       "      <td>2</td>\n",
       "      <td>0</td>\n",
       "      <td>1</td>\n",
       "      <td>0</td>\n",
       "      <td>1</td>\n",
       "      <td>1</td>\n",
       "      <td>1</td>\n",
       "      <td>0</td>\n",
       "      <td>0</td>\n",
       "      <td>0</td>\n",
       "      <td>1</td>\n",
       "      <td>0</td>\n",
       "      <td>73</td>\n",
       "      <td>1</td>\n",
       "    </tr>\n",
       "  </tbody>\n",
       "</table>\n",
       "</div>"
      ],
      "text/plain": [
       "   DGN  PRE4  PRE5  PRE6  PRE7  PRE8  PRE9  PRE10  PRE11  PRE14  PRE17  PRE19  \\\n",
       "0    2  2.88  2.16     1     0     0     0      1      1      4      0      0   \n",
       "1    3  3.40  1.88     0     0     0     0      0      0      2      0      0   \n",
       "2    3  2.76  2.08     1     0     0     0      1      0      1      0      0   \n",
       "3    3  3.68  3.04     0     0     0     0      0      0      1      0      0   \n",
       "4    3  2.44  0.96     2     0     1     0      1      1      1      0      0   \n",
       "\n",
       "   PRE25  PRE30  PRE32  AGE  Risk1Yr  \n",
       "0      0      1      0   60        0  \n",
       "1      0      1      0   51        0  \n",
       "2      0      1      0   59        0  \n",
       "3      0      0      0   54        0  \n",
       "4      0      1      0   73        1  "
      ]
     },
     "execution_count": 6,
     "metadata": {},
     "output_type": "execute_result"
    }
   ],
   "source": [
    "df = df.drop(['id'], axis=1)\n",
    "df.head()"
   ]
  },
  {
   "cell_type": "code",
   "execution_count": 7,
   "metadata": {},
   "outputs": [],
   "source": [
    "col_names = {'DGN': 'Diagnosis', 'PRE4': 'FVC', 'PRE5': 'FEV1', 'PRE6': 'Performance', \\\n",
    "            'PRE7': 'Pain', 'PRE8': 'Haemoptysis', 'PRE9': 'Dyspnoea', 'PRE10': 'Cough', \\\n",
    "            'PRE11': 'Weakness', 'PRE14': 'Tumor_Size', 'PRE17': 'Diabetes_Mellitus', \\\n",
    "            'PRE19': 'MI_6mo', 'PRE25': 'PAD', 'PRE30': 'Smoking', 'PRE32': 'Asthma', \\\n",
    "            'AGE': 'Age', 'Risk1Yr': 'Death_1yr'}\n",
    "df = df.rename(index=str, columns=col_names)"
   ]
  },
  {
   "cell_type": "code",
   "execution_count": 8,
   "metadata": {
    "scrolled": true
   },
   "outputs": [
    {
     "data": {
      "text/html": [
       "<div>\n",
       "<style scoped>\n",
       "    .dataframe tbody tr th:only-of-type {\n",
       "        vertical-align: middle;\n",
       "    }\n",
       "\n",
       "    .dataframe tbody tr th {\n",
       "        vertical-align: top;\n",
       "    }\n",
       "\n",
       "    .dataframe thead th {\n",
       "        text-align: right;\n",
       "    }\n",
       "</style>\n",
       "<table border=\"1\" class=\"dataframe\">\n",
       "  <thead>\n",
       "    <tr style=\"text-align: right;\">\n",
       "      <th></th>\n",
       "      <th>Diagnosis</th>\n",
       "      <th>FVC</th>\n",
       "      <th>FEV1</th>\n",
       "      <th>Performance</th>\n",
       "      <th>Pain</th>\n",
       "      <th>Haemoptysis</th>\n",
       "      <th>Dyspnoea</th>\n",
       "      <th>Cough</th>\n",
       "      <th>Weakness</th>\n",
       "      <th>Tumor_Size</th>\n",
       "      <th>Diabetes_Mellitus</th>\n",
       "      <th>MI_6mo</th>\n",
       "      <th>PAD</th>\n",
       "      <th>Smoking</th>\n",
       "      <th>Asthma</th>\n",
       "      <th>Age</th>\n",
       "      <th>Death_1yr</th>\n",
       "    </tr>\n",
       "  </thead>\n",
       "  <tbody>\n",
       "    <tr>\n",
       "      <th>0</th>\n",
       "      <td>2</td>\n",
       "      <td>2.88</td>\n",
       "      <td>2.16</td>\n",
       "      <td>1</td>\n",
       "      <td>0</td>\n",
       "      <td>0</td>\n",
       "      <td>0</td>\n",
       "      <td>1</td>\n",
       "      <td>1</td>\n",
       "      <td>4</td>\n",
       "      <td>0</td>\n",
       "      <td>0</td>\n",
       "      <td>0</td>\n",
       "      <td>1</td>\n",
       "      <td>0</td>\n",
       "      <td>60</td>\n",
       "      <td>0</td>\n",
       "    </tr>\n",
       "    <tr>\n",
       "      <th>1</th>\n",
       "      <td>3</td>\n",
       "      <td>3.40</td>\n",
       "      <td>1.88</td>\n",
       "      <td>0</td>\n",
       "      <td>0</td>\n",
       "      <td>0</td>\n",
       "      <td>0</td>\n",
       "      <td>0</td>\n",
       "      <td>0</td>\n",
       "      <td>2</td>\n",
       "      <td>0</td>\n",
       "      <td>0</td>\n",
       "      <td>0</td>\n",
       "      <td>1</td>\n",
       "      <td>0</td>\n",
       "      <td>51</td>\n",
       "      <td>0</td>\n",
       "    </tr>\n",
       "    <tr>\n",
       "      <th>2</th>\n",
       "      <td>3</td>\n",
       "      <td>2.76</td>\n",
       "      <td>2.08</td>\n",
       "      <td>1</td>\n",
       "      <td>0</td>\n",
       "      <td>0</td>\n",
       "      <td>0</td>\n",
       "      <td>1</td>\n",
       "      <td>0</td>\n",
       "      <td>1</td>\n",
       "      <td>0</td>\n",
       "      <td>0</td>\n",
       "      <td>0</td>\n",
       "      <td>1</td>\n",
       "      <td>0</td>\n",
       "      <td>59</td>\n",
       "      <td>0</td>\n",
       "    </tr>\n",
       "    <tr>\n",
       "      <th>3</th>\n",
       "      <td>3</td>\n",
       "      <td>3.68</td>\n",
       "      <td>3.04</td>\n",
       "      <td>0</td>\n",
       "      <td>0</td>\n",
       "      <td>0</td>\n",
       "      <td>0</td>\n",
       "      <td>0</td>\n",
       "      <td>0</td>\n",
       "      <td>1</td>\n",
       "      <td>0</td>\n",
       "      <td>0</td>\n",
       "      <td>0</td>\n",
       "      <td>0</td>\n",
       "      <td>0</td>\n",
       "      <td>54</td>\n",
       "      <td>0</td>\n",
       "    </tr>\n",
       "    <tr>\n",
       "      <th>4</th>\n",
       "      <td>3</td>\n",
       "      <td>2.44</td>\n",
       "      <td>0.96</td>\n",
       "      <td>2</td>\n",
       "      <td>0</td>\n",
       "      <td>1</td>\n",
       "      <td>0</td>\n",
       "      <td>1</td>\n",
       "      <td>1</td>\n",
       "      <td>1</td>\n",
       "      <td>0</td>\n",
       "      <td>0</td>\n",
       "      <td>0</td>\n",
       "      <td>1</td>\n",
       "      <td>0</td>\n",
       "      <td>73</td>\n",
       "      <td>1</td>\n",
       "    </tr>\n",
       "  </tbody>\n",
       "</table>\n",
       "</div>"
      ],
      "text/plain": [
       "   Diagnosis   FVC  FEV1  Performance  Pain  Haemoptysis  Dyspnoea  Cough  \\\n",
       "0          2  2.88  2.16            1     0            0         0      1   \n",
       "1          3  3.40  1.88            0     0            0         0      0   \n",
       "2          3  2.76  2.08            1     0            0         0      1   \n",
       "3          3  3.68  3.04            0     0            0         0      0   \n",
       "4          3  2.44  0.96            2     0            1         0      1   \n",
       "\n",
       "   Weakness  Tumor_Size  Diabetes_Mellitus  MI_6mo  PAD  Smoking  Asthma  Age  \\\n",
       "0         1           4                  0       0    0        1       0   60   \n",
       "1         0           2                  0       0    0        1       0   51   \n",
       "2         0           1                  0       0    0        1       0   59   \n",
       "3         0           1                  0       0    0        0       0   54   \n",
       "4         1           1                  0       0    0        1       0   73   \n",
       "\n",
       "   Death_1yr  \n",
       "0          0  \n",
       "1          0  \n",
       "2          0  \n",
       "3          0  \n",
       "4          1  "
      ]
     },
     "execution_count": 8,
     "metadata": {},
     "output_type": "execute_result"
    }
   ],
   "source": [
    "df.head()"
   ]
  },
  {
   "cell_type": "code",
   "execution_count": 9,
   "metadata": {},
   "outputs": [
    {
     "data": {
      "image/png": "[encoded data removed]",
      "text/plain": [
       "<Figure size 432x288 with 3 Axes>"
      ]
     },
     "metadata": {
      "needs_background": "light"
     },
     "output_type": "display_data"
    }
   ],
   "source": [
    "fig, axs = plt.subplots(1,3)\n",
    "axs[0].boxplot(df.Age)\n",
    "axs[0].set_title('Age')\n",
    "axs[1].boxplot(df.FEV1)\n",
    "axs[1].set_title('FEV1')\n",
    "axs[2].boxplot(df.FVC)\n",
    "axs[2].set_title(\"FVC\")\n",
    "plt.show()"
   ]
  },
  {
   "cell_type": "code",
   "execution_count": 10,
   "metadata": {},
   "outputs": [
    {
     "data": {
      "image/png": "[encoded data removed]",
      "text/plain": [
       "<Figure size 432x288 with 1 Axes>"
      ]
     },
     "metadata": {
      "needs_background": "light"
     },
     "output_type": "display_data"
    }
   ],
   "source": [
    "plt.plot(df.Age, df.FEV1, linestyle='none', marker='.')\n",
    "plt.xlabel('Age')\n",
    "plt.ylabel('FEV1')\n",
    "plt.show()"
   ]
  },
  {
   "cell_type": "code",
   "execution_count": 11,
   "metadata": {
    "scrolled": true
   },
   "outputs": [
    {
     "data": {
      "image/png": "[encoded data removed]",
      "text/plain": [
       "<Figure size 432x288 with 1 Axes>"
      ]
     },
     "metadata": {
      "needs_background": "light"
     },
     "output_type": "display_data"
    }
   ],
   "source": [
    "plt.plot(df.Age, df.FVC, linestyle='none', marker='.')\n",
    "plt.xlabel('Age')\n",
    "plt.ylabel('FVC')\n",
    "plt.show()"
   ]
  },
  {
   "cell_type": "code",
   "execution_count": 12,
   "metadata": {},
   "outputs": [
    {
     "data": {
      "image/png": "[encoded data removed]",
      "text/plain": [
       "<Figure size 432x288 with 1 Axes>"
      ]
     },
     "metadata": {
      "needs_background": "light"
     },
     "output_type": "display_data"
    }
   ],
   "source": [
    "plt.plot(df.FVC, df.FEV1, linestyle='none', marker='.')\n",
    "plt.xlabel('FVC')\n",
    "plt.ylabel('FEV1')\n",
    "plt.show()"
   ]
  },
  {
   "cell_type": "code",
   "execution_count": 1,
   "metadata": {},
   "outputs": [
    {
     "ename": "NameError",
     "evalue": "name 'df' is not defined",
     "output_type": "error",
     "traceback": [
      "\u001b[1;31m---------------------------------------------------------------------------\u001b[0m",
      "\u001b[1;31mNameError\u001b[0m                                 Traceback (most recent call last)",
      "\u001b[1;32m<ipython-input-1-2ed5daf3a355>\u001b[0m in \u001b[0;36m<module>\u001b[1;34m\u001b[0m\n\u001b[1;32m----> 1\u001b[1;33m \u001b[0mdf\u001b[0m \u001b[1;33m=\u001b[0m \u001b[0mdf\u001b[0m\u001b[1;33m[\u001b[0m\u001b[0mdf\u001b[0m\u001b[1;33m.\u001b[0m\u001b[0mAge\u001b[0m \u001b[1;33m>\u001b[0m \u001b[1;36m30\u001b[0m\u001b[1;33m]\u001b[0m\u001b[1;33m\u001b[0m\u001b[1;33m\u001b[0m\u001b[0m\n\u001b[0m\u001b[0;32m      2\u001b[0m \u001b[0mdf\u001b[0m \u001b[1;33m=\u001b[0m \u001b[0mdf\u001b[0m\u001b[1;33m[\u001b[0m\u001b[0mdf\u001b[0m\u001b[1;33m.\u001b[0m\u001b[0mFEV1\u001b[0m \u001b[1;33m<\u001b[0m \u001b[1;36m8\u001b[0m\u001b[1;33m]\u001b[0m\u001b[1;33m\u001b[0m\u001b[1;33m\u001b[0m\u001b[0m\n\u001b[0;32m      3\u001b[0m \u001b[1;32mif\u001b[0m \u001b[1;33m(\u001b[0m\u001b[0mdf\u001b[0m\u001b[1;33m(\u001b[0m\u001b[0mAge\u001b[0m\u001b[1;33m<\u001b[0m\u001b[1;36m30\u001b[0m\u001b[1;33m)\u001b[0m\u001b[1;33m)\u001b[0m\u001b[1;33m:\u001b[0m\u001b[1;33m\u001b[0m\u001b[1;33m\u001b[0m\u001b[0m\n\u001b[0;32m      4\u001b[0m     \u001b[0mdf\u001b[0m\u001b[1;33m(\u001b[0m\u001b[0mAge\u001b[0m\u001b[1;33m.\u001b[0m\u001b[0mreplace\u001b[0m\u001b[1;33m(\u001b[0m\u001b[1;33m[\u001b[0m\u001b[0mnp\u001b[0m\u001b[1;33m.\u001b[0m\u001b[0mNaN\u001b[0m\u001b[1;33m]\u001b[0m\u001b[1;33m)\u001b[0m\u001b[1;33m)\u001b[0m\u001b[1;33m\u001b[0m\u001b[1;33m\u001b[0m\u001b[0m\n",
      "\u001b[1;31mNameError\u001b[0m: name 'df' is not defined"
     ]
    }
   ],
   "source": [
    "df = df[df.Age > 30]\n",
    "df = df[df.FEV1 < 8]\n",
    "if (df(Age<30)):\n",
    "    df(Age.replace([np.NaN]))"
   ]
  },
  {
   "cell_type": "code",
   "execution_count": 14,
   "metadata": {},
   "outputs": [
    {
     "data": {
      "text/plain": [
       "454"
      ]
     },
     "execution_count": 14,
     "metadata": {},
     "output_type": "execute_result"
    }
   ],
   "source": [
    "len(df)"
   ]
  },
  {
   "cell_type": "code",
   "execution_count": 15,
   "metadata": {},
   "outputs": [],
   "source": [
    "df.to_csv('ThoracicSurgery.csv', encoding='utf-8', index=False)"
   ]
  },
  {
   "cell_type": "code",
   "execution_count": 16,
   "metadata": {},
   "outputs": [
    {
     "data": {
      "text/plain": [
       "Diagnosis            False\n",
       "FVC                  False\n",
       "FEV1                 False\n",
       "Performance          False\n",
       "Pain                 False\n",
       "Haemoptysis          False\n",
       "Dyspnoea             False\n",
       "Cough                False\n",
       "Weakness             False\n",
       "Tumor_Size           False\n",
       "Diabetes_Mellitus    False\n",
       "MI_6mo               False\n",
       "PAD                  False\n",
       "Smoking              False\n",
       "Asthma               False\n",
       "Age                  False\n",
       "Death_1yr            False\n",
       "dtype: bool"
      ]
     },
     "execution_count": 16,
     "metadata": {},
     "output_type": "execute_result"
    }
   ],
   "source": [
    "dataset=pd.read_csv(\"ThoracicSurgery.csv\")\n",
    "dataset.isnull().any()"
   ]
  },
  {
   "cell_type": "code",
   "execution_count": 17,
   "metadata": {},
   "outputs": [],
   "source": [
    "#from sklearn.preprocessing import LabelEncoder\n",
    "#le =LabelEncoder()\n",
    "#dataset['Dignoisis'] = le.fit_transform(dataset['Dignoisis'] )\n",
    "#dataset['Performance'] = le.fit_transform(dataset['Performance'] )\n",
    "#dataset['Pain'] = le.fit_transform(dataset['Pain'] )\n",
    "#dataset['Haemoptysis'] = le.fit_transform(dataset['Haemoptysis'] )\n",
    "#dataset['Dyspnoea'] = le.fit_transform(dataset['Dyspnoea'] )\n",
    "#dataset['Cough'] = le.fit_transform(dataset['Cough'] )\n",
    "#dataset['Weakness'] = le.fit_transform(dataset['Weakness'] )\n",
    "#dataset['Tumor_size'] = le.fit_transform(dataset['Tumor_size'] )\n",
    "#dataset['Diabetes'] = le.fit_transform(dataset['Diabetes'] )\n",
    "#dataset['MI_6mo'] = le.fit_transform(dataset['MI_6mo'] )\n",
    "#dataset['PAD'] = le.fit_transform(dataset['PAD'] )\n",
    "#dataset['Smoking'] = le.fit_transform(dataset['Smoking'] )\n",
    "#dataset['Asthma'] = le.fit_transform(dataset['Asthma'] )\n",
    "#dataset['Risk1Yr'] = le.fit_transform(dataset['Risk1Yr'] )"
   ]
  },
  {
   "cell_type": "code",
   "execution_count": 18,
   "metadata": {},
   "outputs": [
    {
     "data": {
      "text/html": [
       "<div>\n",
       "<style scoped>\n",
       "    .dataframe tbody tr th:only-of-type {\n",
       "        vertical-align: middle;\n",
       "    }\n",
       "\n",
       "    .dataframe tbody tr th {\n",
       "        vertical-align: top;\n",
       "    }\n",
       "\n",
       "    .dataframe thead th {\n",
       "        text-align: right;\n",
       "    }\n",
       "</style>\n",
       "<table border=\"1\" class=\"dataframe\">\n",
       "  <thead>\n",
       "    <tr style=\"text-align: right;\">\n",
       "      <th></th>\n",
       "      <th>Diagnosis</th>\n",
       "      <th>FVC</th>\n",
       "      <th>FEV1</th>\n",
       "      <th>Performance</th>\n",
       "      <th>Pain</th>\n",
       "      <th>Haemoptysis</th>\n",
       "      <th>Dyspnoea</th>\n",
       "      <th>Cough</th>\n",
       "      <th>Weakness</th>\n",
       "      <th>Tumor_Size</th>\n",
       "      <th>Diabetes_Mellitus</th>\n",
       "      <th>MI_6mo</th>\n",
       "      <th>PAD</th>\n",
       "      <th>Smoking</th>\n",
       "      <th>Asthma</th>\n",
       "      <th>Age</th>\n",
       "      <th>Death_1yr</th>\n",
       "    </tr>\n",
       "  </thead>\n",
       "  <tbody>\n",
       "    <tr>\n",
       "      <th>0</th>\n",
       "      <td>2</td>\n",
       "      <td>2.88</td>\n",
       "      <td>2.16</td>\n",
       "      <td>1</td>\n",
       "      <td>0</td>\n",
       "      <td>0</td>\n",
       "      <td>0</td>\n",
       "      <td>1</td>\n",
       "      <td>1</td>\n",
       "      <td>4</td>\n",
       "      <td>0</td>\n",
       "      <td>0</td>\n",
       "      <td>0</td>\n",
       "      <td>1</td>\n",
       "      <td>0</td>\n",
       "      <td>60</td>\n",
       "      <td>0</td>\n",
       "    </tr>\n",
       "    <tr>\n",
       "      <th>1</th>\n",
       "      <td>3</td>\n",
       "      <td>3.40</td>\n",
       "      <td>1.88</td>\n",
       "      <td>0</td>\n",
       "      <td>0</td>\n",
       "      <td>0</td>\n",
       "      <td>0</td>\n",
       "      <td>0</td>\n",
       "      <td>0</td>\n",
       "      <td>2</td>\n",
       "      <td>0</td>\n",
       "      <td>0</td>\n",
       "      <td>0</td>\n",
       "      <td>1</td>\n",
       "      <td>0</td>\n",
       "      <td>51</td>\n",
       "      <td>0</td>\n",
       "    </tr>\n",
       "    <tr>\n",
       "      <th>2</th>\n",
       "      <td>3</td>\n",
       "      <td>2.76</td>\n",
       "      <td>2.08</td>\n",
       "      <td>1</td>\n",
       "      <td>0</td>\n",
       "      <td>0</td>\n",
       "      <td>0</td>\n",
       "      <td>1</td>\n",
       "      <td>0</td>\n",
       "      <td>1</td>\n",
       "      <td>0</td>\n",
       "      <td>0</td>\n",
       "      <td>0</td>\n",
       "      <td>1</td>\n",
       "      <td>0</td>\n",
       "      <td>59</td>\n",
       "      <td>0</td>\n",
       "    </tr>\n",
       "    <tr>\n",
       "      <th>3</th>\n",
       "      <td>3</td>\n",
       "      <td>3.68</td>\n",
       "      <td>3.04</td>\n",
       "      <td>0</td>\n",
       "      <td>0</td>\n",
       "      <td>0</td>\n",
       "      <td>0</td>\n",
       "      <td>0</td>\n",
       "      <td>0</td>\n",
       "      <td>1</td>\n",
       "      <td>0</td>\n",
       "      <td>0</td>\n",
       "      <td>0</td>\n",
       "      <td>0</td>\n",
       "      <td>0</td>\n",
       "      <td>54</td>\n",
       "      <td>0</td>\n",
       "    </tr>\n",
       "    <tr>\n",
       "      <th>4</th>\n",
       "      <td>3</td>\n",
       "      <td>2.44</td>\n",
       "      <td>0.96</td>\n",
       "      <td>2</td>\n",
       "      <td>0</td>\n",
       "      <td>1</td>\n",
       "      <td>0</td>\n",
       "      <td>1</td>\n",
       "      <td>1</td>\n",
       "      <td>1</td>\n",
       "      <td>0</td>\n",
       "      <td>0</td>\n",
       "      <td>0</td>\n",
       "      <td>1</td>\n",
       "      <td>0</td>\n",
       "      <td>73</td>\n",
       "      <td>1</td>\n",
       "    </tr>\n",
       "  </tbody>\n",
       "</table>\n",
       "</div>"
      ],
      "text/plain": [
       "   Diagnosis   FVC  FEV1  Performance  Pain  Haemoptysis  Dyspnoea  Cough  \\\n",
       "0          2  2.88  2.16            1     0            0         0      1   \n",
       "1          3  3.40  1.88            0     0            0         0      0   \n",
       "2          3  2.76  2.08            1     0            0         0      1   \n",
       "3          3  3.68  3.04            0     0            0         0      0   \n",
       "4          3  2.44  0.96            2     0            1         0      1   \n",
       "\n",
       "   Weakness  Tumor_Size  Diabetes_Mellitus  MI_6mo  PAD  Smoking  Asthma  Age  \\\n",
       "0         1           4                  0       0    0        1       0   60   \n",
       "1         0           2                  0       0    0        1       0   51   \n",
       "2         0           1                  0       0    0        1       0   59   \n",
       "3         0           1                  0       0    0        0       0   54   \n",
       "4         1           1                  0       0    0        1       0   73   \n",
       "\n",
       "   Death_1yr  \n",
       "0          0  \n",
       "1          0  \n",
       "2          0  \n",
       "3          0  \n",
       "4          1  "
      ]
     },
     "execution_count": 18,
     "metadata": {},
     "output_type": "execute_result"
    }
   ],
   "source": [
    "dataset.head()"
   ]
  },
  {
   "cell_type": "code",
   "execution_count": 19,
   "metadata": {
    "scrolled": true
   },
   "outputs": [],
   "source": [
    "import seaborn as sns\n",
    "#sns.pairplot(dataset)"
   ]
  },
  {
   "cell_type": "code",
   "execution_count": 20,
   "metadata": {},
   "outputs": [
    {
     "data": {
      "text/html": [
       "<div>\n",
       "<style scoped>\n",
       "    .dataframe tbody tr th:only-of-type {\n",
       "        vertical-align: middle;\n",
       "    }\n",
       "\n",
       "    .dataframe tbody tr th {\n",
       "        vertical-align: top;\n",
       "    }\n",
       "\n",
       "    .dataframe thead th {\n",
       "        text-align: right;\n",
       "    }\n",
       "</style>\n",
       "<table border=\"1\" class=\"dataframe\">\n",
       "  <thead>\n",
       "    <tr style=\"text-align: right;\">\n",
       "      <th></th>\n",
       "      <th>Diagnosis</th>\n",
       "      <th>FVC</th>\n",
       "      <th>FEV1</th>\n",
       "      <th>Performance</th>\n",
       "      <th>Pain</th>\n",
       "      <th>Haemoptysis</th>\n",
       "      <th>Dyspnoea</th>\n",
       "      <th>Cough</th>\n",
       "      <th>Weakness</th>\n",
       "      <th>Tumor_Size</th>\n",
       "      <th>Diabetes_Mellitus</th>\n",
       "      <th>MI_6mo</th>\n",
       "      <th>PAD</th>\n",
       "      <th>Smoking</th>\n",
       "      <th>Asthma</th>\n",
       "      <th>Age</th>\n",
       "      <th>Death_1yr</th>\n",
       "    </tr>\n",
       "  </thead>\n",
       "  <tbody>\n",
       "    <tr>\n",
       "      <th>Diagnosis</th>\n",
       "      <td>1.000000</td>\n",
       "      <td>0.106642</td>\n",
       "      <td>0.100170</td>\n",
       "      <td>-0.042919</td>\n",
       "      <td>0.006541</td>\n",
       "      <td>-0.078367</td>\n",
       "      <td>-0.031233</td>\n",
       "      <td>-0.081930</td>\n",
       "      <td>-0.018096</td>\n",
       "      <td>-0.134280</td>\n",
       "      <td>0.033409</td>\n",
       "      <td>-0.008606</td>\n",
       "      <td>-0.017328</td>\n",
       "      <td>-0.096235</td>\n",
       "      <td>-0.008606</td>\n",
       "      <td>0.090274</td>\n",
       "      <td>0.073938</td>\n",
       "    </tr>\n",
       "    <tr>\n",
       "      <th>FVC</th>\n",
       "      <td>0.106642</td>\n",
       "      <td>1.000000</td>\n",
       "      <td>0.887545</td>\n",
       "      <td>-0.102612</td>\n",
       "      <td>0.001981</td>\n",
       "      <td>-0.103742</td>\n",
       "      <td>0.070158</td>\n",
       "      <td>-0.066180</td>\n",
       "      <td>-0.105544</td>\n",
       "      <td>0.037635</td>\n",
       "      <td>-0.120430</td>\n",
       "      <td>-0.009767</td>\n",
       "      <td>-0.037149</td>\n",
       "      <td>-0.012865</td>\n",
       "      <td>-0.062058</td>\n",
       "      <td>-0.299430</td>\n",
       "      <td>-0.045123</td>\n",
       "    </tr>\n",
       "    <tr>\n",
       "      <th>FEV1</th>\n",
       "      <td>0.100170</td>\n",
       "      <td>0.887545</td>\n",
       "      <td>1.000000</td>\n",
       "      <td>-0.138419</td>\n",
       "      <td>0.012140</td>\n",
       "      <td>-0.158771</td>\n",
       "      <td>0.024530</td>\n",
       "      <td>-0.134925</td>\n",
       "      <td>-0.128324</td>\n",
       "      <td>0.014588</td>\n",
       "      <td>-0.111169</td>\n",
       "      <td>-0.034237</td>\n",
       "      <td>-0.032890</td>\n",
       "      <td>-0.054192</td>\n",
       "      <td>-0.079098</td>\n",
       "      <td>-0.309617</td>\n",
       "      <td>-0.073388</td>\n",
       "    </tr>\n",
       "    <tr>\n",
       "      <th>Performance</th>\n",
       "      <td>-0.042919</td>\n",
       "      <td>-0.102612</td>\n",
       "      <td>-0.138419</td>\n",
       "      <td>1.000000</td>\n",
       "      <td>0.132116</td>\n",
       "      <td>0.129292</td>\n",
       "      <td>0.093149</td>\n",
       "      <td>0.692147</td>\n",
       "      <td>0.417734</td>\n",
       "      <td>0.101060</td>\n",
       "      <td>0.030971</td>\n",
       "      <td>0.025667</td>\n",
       "      <td>0.020144</td>\n",
       "      <td>0.176232</td>\n",
       "      <td>-0.036983</td>\n",
       "      <td>0.200226</td>\n",
       "      <td>0.094011</td>\n",
       "    </tr>\n",
       "    <tr>\n",
       "      <th>Pain</th>\n",
       "      <td>0.006541</td>\n",
       "      <td>0.001981</td>\n",
       "      <td>0.012140</td>\n",
       "      <td>0.132116</td>\n",
       "      <td>1.000000</td>\n",
       "      <td>0.225459</td>\n",
       "      <td>0.061782</td>\n",
       "      <td>-0.056551</td>\n",
       "      <td>-0.065151</td>\n",
       "      <td>0.094831</td>\n",
       "      <td>0.034604</td>\n",
       "      <td>-0.016727</td>\n",
       "      <td>-0.033678</td>\n",
       "      <td>-0.082988</td>\n",
       "      <td>-0.016727</td>\n",
       "      <td>0.057386</td>\n",
       "      <td>0.075141</td>\n",
       "    </tr>\n",
       "    <tr>\n",
       "      <th>Haemoptysis</th>\n",
       "      <td>-0.078367</td>\n",
       "      <td>-0.103742</td>\n",
       "      <td>-0.158771</td>\n",
       "      <td>0.129292</td>\n",
       "      <td>0.225459</td>\n",
       "      <td>1.000000</td>\n",
       "      <td>0.100836</td>\n",
       "      <td>0.067577</td>\n",
       "      <td>0.073938</td>\n",
       "      <td>0.050140</td>\n",
       "      <td>0.008696</td>\n",
       "      <td>-0.026454</td>\n",
       "      <td>0.092996</td>\n",
       "      <td>-0.022923</td>\n",
       "      <td>-0.026454</td>\n",
       "      <td>0.083440</td>\n",
       "      <td>0.081781</td>\n",
       "    </tr>\n",
       "    <tr>\n",
       "      <th>Dyspnoea</th>\n",
       "      <td>-0.031233</td>\n",
       "      <td>0.070158</td>\n",
       "      <td>0.024530</td>\n",
       "      <td>0.093149</td>\n",
       "      <td>0.061782</td>\n",
       "      <td>0.100836</td>\n",
       "      <td>1.000000</td>\n",
       "      <td>0.075556</td>\n",
       "      <td>-0.058753</td>\n",
       "      <td>0.077375</td>\n",
       "      <td>-0.031999</td>\n",
       "      <td>-0.016058</td>\n",
       "      <td>0.114452</td>\n",
       "      <td>-0.043642</td>\n",
       "      <td>-0.016058</td>\n",
       "      <td>0.001787</td>\n",
       "      <td>0.112979</td>\n",
       "    </tr>\n",
       "    <tr>\n",
       "      <th>Cough</th>\n",
       "      <td>-0.081930</td>\n",
       "      <td>-0.066180</td>\n",
       "      <td>-0.134925</td>\n",
       "      <td>0.692147</td>\n",
       "      <td>-0.056551</td>\n",
       "      <td>0.067577</td>\n",
       "      <td>0.075556</td>\n",
       "      <td>1.000000</td>\n",
       "      <td>0.199428</td>\n",
       "      <td>0.150563</td>\n",
       "      <td>0.024284</td>\n",
       "      <td>0.043958</td>\n",
       "      <td>0.015713</td>\n",
       "      <td>0.194116</td>\n",
       "      <td>-0.028350</td>\n",
       "      <td>0.131230</td>\n",
       "      <td>0.093019</td>\n",
       "    </tr>\n",
       "    <tr>\n",
       "      <th>Weakness</th>\n",
       "      <td>-0.018096</td>\n",
       "      <td>-0.105544</td>\n",
       "      <td>-0.128324</td>\n",
       "      <td>0.417734</td>\n",
       "      <td>-0.065151</td>\n",
       "      <td>0.073938</td>\n",
       "      <td>-0.058753</td>\n",
       "      <td>0.199428</td>\n",
       "      <td>1.000000</td>\n",
       "      <td>-0.034797</td>\n",
       "      <td>0.070072</td>\n",
       "      <td>0.057875</td>\n",
       "      <td>0.027763</td>\n",
       "      <td>0.114566</td>\n",
       "      <td>-0.030297</td>\n",
       "      <td>0.205717</td>\n",
       "      <td>0.083691</td>\n",
       "    </tr>\n",
       "    <tr>\n",
       "      <th>Tumor_Size</th>\n",
       "      <td>-0.134280</td>\n",
       "      <td>0.037635</td>\n",
       "      <td>0.014588</td>\n",
       "      <td>0.101060</td>\n",
       "      <td>0.094831</td>\n",
       "      <td>0.050140</td>\n",
       "      <td>0.077375</td>\n",
       "      <td>0.150563</td>\n",
       "      <td>-0.034797</td>\n",
       "      <td>1.000000</td>\n",
       "      <td>0.036253</td>\n",
       "      <td>-0.021976</td>\n",
       "      <td>-0.020558</td>\n",
       "      <td>0.043060</td>\n",
       "      <td>-0.021976</td>\n",
       "      <td>0.010370</td>\n",
       "      <td>0.168335</td>\n",
       "    </tr>\n",
       "    <tr>\n",
       "      <th>Diabetes_Mellitus</th>\n",
       "      <td>0.033409</td>\n",
       "      <td>-0.120430</td>\n",
       "      <td>-0.111169</td>\n",
       "      <td>0.030971</td>\n",
       "      <td>0.034604</td>\n",
       "      <td>0.008696</td>\n",
       "      <td>-0.031999</td>\n",
       "      <td>0.024284</td>\n",
       "      <td>0.070072</td>\n",
       "      <td>0.036253</td>\n",
       "      <td>1.000000</td>\n",
       "      <td>-0.018926</td>\n",
       "      <td>0.025497</td>\n",
       "      <td>-0.047887</td>\n",
       "      <td>-0.018926</td>\n",
       "      <td>0.089791</td>\n",
       "      <td>0.112646</td>\n",
       "    </tr>\n",
       "    <tr>\n",
       "      <th>MI_6mo</th>\n",
       "      <td>-0.008606</td>\n",
       "      <td>-0.009767</td>\n",
       "      <td>-0.034237</td>\n",
       "      <td>0.025667</td>\n",
       "      <td>-0.016727</td>\n",
       "      <td>-0.026454</td>\n",
       "      <td>-0.016058</td>\n",
       "      <td>0.043958</td>\n",
       "      <td>0.057875</td>\n",
       "      <td>-0.021976</td>\n",
       "      <td>-0.018926</td>\n",
       "      <td>1.000000</td>\n",
       "      <td>-0.008909</td>\n",
       "      <td>0.030297</td>\n",
       "      <td>-0.004425</td>\n",
       "      <td>-0.033712</td>\n",
       "      <td>-0.028160</td>\n",
       "    </tr>\n",
       "    <tr>\n",
       "      <th>PAD</th>\n",
       "      <td>-0.017328</td>\n",
       "      <td>-0.037149</td>\n",
       "      <td>-0.032890</td>\n",
       "      <td>0.020144</td>\n",
       "      <td>-0.033678</td>\n",
       "      <td>0.092996</td>\n",
       "      <td>0.114452</td>\n",
       "      <td>0.015713</td>\n",
       "      <td>0.027763</td>\n",
       "      <td>-0.020558</td>\n",
       "      <td>0.025497</td>\n",
       "      <td>-0.008909</td>\n",
       "      <td>1.000000</td>\n",
       "      <td>0.061000</td>\n",
       "      <td>-0.008909</td>\n",
       "      <td>0.057084</td>\n",
       "      <td>0.036566</td>\n",
       "    </tr>\n",
       "    <tr>\n",
       "      <th>Smoking</th>\n",
       "      <td>-0.096235</td>\n",
       "      <td>-0.012865</td>\n",
       "      <td>-0.054192</td>\n",
       "      <td>0.176232</td>\n",
       "      <td>-0.082988</td>\n",
       "      <td>-0.022923</td>\n",
       "      <td>-0.043642</td>\n",
       "      <td>0.194116</td>\n",
       "      <td>0.114566</td>\n",
       "      <td>0.043060</td>\n",
       "      <td>-0.047887</td>\n",
       "      <td>0.030297</td>\n",
       "      <td>0.061000</td>\n",
       "      <td>1.000000</td>\n",
       "      <td>-0.057875</td>\n",
       "      <td>0.041266</td>\n",
       "      <td>0.078962</td>\n",
       "    </tr>\n",
       "    <tr>\n",
       "      <th>Asthma</th>\n",
       "      <td>-0.008606</td>\n",
       "      <td>-0.062058</td>\n",
       "      <td>-0.079098</td>\n",
       "      <td>-0.036983</td>\n",
       "      <td>-0.016727</td>\n",
       "      <td>-0.026454</td>\n",
       "      <td>-0.016058</td>\n",
       "      <td>-0.028350</td>\n",
       "      <td>-0.030297</td>\n",
       "      <td>-0.021976</td>\n",
       "      <td>-0.018926</td>\n",
       "      <td>-0.004425</td>\n",
       "      <td>-0.008909</td>\n",
       "      <td>-0.057875</td>\n",
       "      <td>1.000000</td>\n",
       "      <td>-0.021890</td>\n",
       "      <td>-0.028160</td>\n",
       "    </tr>\n",
       "    <tr>\n",
       "      <th>Age</th>\n",
       "      <td>0.090274</td>\n",
       "      <td>-0.299430</td>\n",
       "      <td>-0.309617</td>\n",
       "      <td>0.200226</td>\n",
       "      <td>0.057386</td>\n",
       "      <td>0.083440</td>\n",
       "      <td>0.001787</td>\n",
       "      <td>0.131230</td>\n",
       "      <td>0.205717</td>\n",
       "      <td>0.010370</td>\n",
       "      <td>0.089791</td>\n",
       "      <td>-0.033712</td>\n",
       "      <td>0.057084</td>\n",
       "      <td>0.041266</td>\n",
       "      <td>-0.021890</td>\n",
       "      <td>1.000000</td>\n",
       "      <td>0.027878</td>\n",
       "    </tr>\n",
       "    <tr>\n",
       "      <th>Death_1yr</th>\n",
       "      <td>0.073938</td>\n",
       "      <td>-0.045123</td>\n",
       "      <td>-0.073388</td>\n",
       "      <td>0.094011</td>\n",
       "      <td>0.075141</td>\n",
       "      <td>0.081781</td>\n",
       "      <td>0.112979</td>\n",
       "      <td>0.093019</td>\n",
       "      <td>0.083691</td>\n",
       "      <td>0.168335</td>\n",
       "      <td>0.112646</td>\n",
       "      <td>-0.028160</td>\n",
       "      <td>0.036566</td>\n",
       "      <td>0.078962</td>\n",
       "      <td>-0.028160</td>\n",
       "      <td>0.027878</td>\n",
       "      <td>1.000000</td>\n",
       "    </tr>\n",
       "  </tbody>\n",
       "</table>\n",
       "</div>"
      ],
      "text/plain": [
       "                   Diagnosis       FVC      FEV1  Performance      Pain  \\\n",
       "Diagnosis           1.000000  0.106642  0.100170    -0.042919  0.006541   \n",
       "FVC                 0.106642  1.000000  0.887545    -0.102612  0.001981   \n",
       "FEV1                0.100170  0.887545  1.000000    -0.138419  0.012140   \n",
       "Performance        -0.042919 -0.102612 -0.138419     1.000000  0.132116   \n",
       "Pain                0.006541  0.001981  0.012140     0.132116  1.000000   \n",
       "Haemoptysis        -0.078367 -0.103742 -0.158771     0.129292  0.225459   \n",
       "Dyspnoea           -0.031233  0.070158  0.024530     0.093149  0.061782   \n",
       "Cough              -0.081930 -0.066180 -0.134925     0.692147 -0.056551   \n",
       "Weakness           -0.018096 -0.105544 -0.128324     0.417734 -0.065151   \n",
       "Tumor_Size         -0.134280  0.037635  0.014588     0.101060  0.094831   \n",
       "Diabetes_Mellitus   0.033409 -0.120430 -0.111169     0.030971  0.034604   \n",
       "MI_6mo             -0.008606 -0.009767 -0.034237     0.025667 -0.016727   \n",
       "PAD                -0.017328 -0.037149 -0.032890     0.020144 -0.033678   \n",
       "Smoking            -0.096235 -0.012865 -0.054192     0.176232 -0.082988   \n",
       "Asthma             -0.008606 -0.062058 -0.079098    -0.036983 -0.016727   \n",
       "Age                 0.090274 -0.299430 -0.309617     0.200226  0.057386   \n",
       "Death_1yr           0.073938 -0.045123 -0.073388     0.094011  0.075141   \n",
       "\n",
       "                   Haemoptysis  Dyspnoea     Cough  Weakness  Tumor_Size  \\\n",
       "Diagnosis            -0.078367 -0.031233 -0.081930 -0.018096   -0.134280   \n",
       "FVC                  -0.103742  0.070158 -0.066180 -0.105544    0.037635   \n",
       "FEV1                 -0.158771  0.024530 -0.134925 -0.128324    0.014588   \n",
       "Performance           0.129292  0.093149  0.692147  0.417734    0.101060   \n",
       "Pain                  0.225459  0.061782 -0.056551 -0.065151    0.094831   \n",
       "Haemoptysis           1.000000  0.100836  0.067577  0.073938    0.050140   \n",
       "Dyspnoea              0.100836  1.000000  0.075556 -0.058753    0.077375   \n",
       "Cough                 0.067577  0.075556  1.000000  0.199428    0.150563   \n",
       "Weakness              0.073938 -0.058753  0.199428  1.000000   -0.034797   \n",
       "Tumor_Size            0.050140  0.077375  0.150563 -0.034797    1.000000   \n",
       "Diabetes_Mellitus     0.008696 -0.031999  0.024284  0.070072    0.036253   \n",
       "MI_6mo               -0.026454 -0.016058  0.043958  0.057875   -0.021976   \n",
       "PAD                   0.092996  0.114452  0.015713  0.027763   -0.020558   \n",
       "Smoking              -0.022923 -0.043642  0.194116  0.114566    0.043060   \n",
       "Asthma               -0.026454 -0.016058 -0.028350 -0.030297   -0.021976   \n",
       "Age                   0.083440  0.001787  0.131230  0.205717    0.010370   \n",
       "Death_1yr             0.081781  0.112979  0.093019  0.083691    0.168335   \n",
       "\n",
       "                   Diabetes_Mellitus    MI_6mo       PAD   Smoking    Asthma  \\\n",
       "Diagnosis                   0.033409 -0.008606 -0.017328 -0.096235 -0.008606   \n",
       "FVC                        -0.120430 -0.009767 -0.037149 -0.012865 -0.062058   \n",
       "FEV1                       -0.111169 -0.034237 -0.032890 -0.054192 -0.079098   \n",
       "Performance                 0.030971  0.025667  0.020144  0.176232 -0.036983   \n",
       "Pain                        0.034604 -0.016727 -0.033678 -0.082988 -0.016727   \n",
       "Haemoptysis                 0.008696 -0.026454  0.092996 -0.022923 -0.026454   \n",
       "Dyspnoea                   -0.031999 -0.016058  0.114452 -0.043642 -0.016058   \n",
       "Cough                       0.024284  0.043958  0.015713  0.194116 -0.028350   \n",
       "Weakness                    0.070072  0.057875  0.027763  0.114566 -0.030297   \n",
       "Tumor_Size                  0.036253 -0.021976 -0.020558  0.043060 -0.021976   \n",
       "Diabetes_Mellitus           1.000000 -0.018926  0.025497 -0.047887 -0.018926   \n",
       "MI_6mo                     -0.018926  1.000000 -0.008909  0.030297 -0.004425   \n",
       "PAD                         0.025497 -0.008909  1.000000  0.061000 -0.008909   \n",
       "Smoking                    -0.047887  0.030297  0.061000  1.000000 -0.057875   \n",
       "Asthma                     -0.018926 -0.004425 -0.008909 -0.057875  1.000000   \n",
       "Age                         0.089791 -0.033712  0.057084  0.041266 -0.021890   \n",
       "Death_1yr                   0.112646 -0.028160  0.036566  0.078962 -0.028160   \n",
       "\n",
       "                        Age  Death_1yr  \n",
       "Diagnosis          0.090274   0.073938  \n",
       "FVC               -0.299430  -0.045123  \n",
       "FEV1              -0.309617  -0.073388  \n",
       "Performance        0.200226   0.094011  \n",
       "Pain               0.057386   0.075141  \n",
       "Haemoptysis        0.083440   0.081781  \n",
       "Dyspnoea           0.001787   0.112979  \n",
       "Cough              0.131230   0.093019  \n",
       "Weakness           0.205717   0.083691  \n",
       "Tumor_Size         0.010370   0.168335  \n",
       "Diabetes_Mellitus  0.089791   0.112646  \n",
       "MI_6mo            -0.033712  -0.028160  \n",
       "PAD                0.057084   0.036566  \n",
       "Smoking            0.041266   0.078962  \n",
       "Asthma            -0.021890  -0.028160  \n",
       "Age                1.000000   0.027878  \n",
       "Death_1yr          0.027878   1.000000  "
      ]
     },
     "execution_count": 20,
     "metadata": {},
     "output_type": "execute_result"
    }
   ],
   "source": [
    "dataset.corr()"
   ]
  },
  {
   "cell_type": "code",
   "execution_count": 21,
   "metadata": {},
   "outputs": [
    {
     "data": {
      "text/plain": [
       "<matplotlib.axes._subplots.AxesSubplot at 0x1bff8a41ba8>"
      ]
     },
     "execution_count": 21,
     "metadata": {},
     "output_type": "execute_result"
    },
    {
     "data": {
      "image/png": "[encoded data removed]",
      "text/plain": [
       "<Figure size 432x288 with 2 Axes>"
      ]
     },
     "metadata": {
      "needs_background": "light"
     },
     "output_type": "display_data"
    }
   ],
   "source": [
    "sns.heatmap(dataset.corr())"
   ]
  },
  {
   "cell_type": "code",
   "execution_count": 22,
   "metadata": {},
   "outputs": [],
   "source": [
    "x=dataset.iloc[:,0:16].values\n",
    "y=dataset.iloc[:,16].values"
   ]
  },
  {
   "cell_type": "code",
   "execution_count": 23,
   "metadata": {},
   "outputs": [],
   "source": [
    "from sklearn.preprocessing import MinMaxScaler\n",
    "sc=MinMaxScaler()\n",
    "x=sc.fit_transform(x)"
   ]
  },
  {
   "cell_type": "code",
   "execution_count": 24,
   "metadata": {},
   "outputs": [],
   "source": [
    "from sklearn.model_selection import train_test_split\n",
    "x_train,x_test,y_train,y_test=train_test_split(x,y,test_size=0.2,random_state=0)"
   ]
  },
  {
   "cell_type": "code",
   "execution_count": 25,
   "metadata": {},
   "outputs": [
    {
     "name": "stderr",
     "output_type": "stream",
     "text": [
      "C:\\Anaconda3\\lib\\site-packages\\sklearn\\linear_model\\logistic.py:433: FutureWarning: Default solver will be changed to 'lbfgs' in 0.22. Specify a solver to silence this warning.\n",
      "  FutureWarning)\n"
     ]
    },
    {
     "data": {
      "text/plain": [
       "0.8131868131868132"
      ]
     },
     "execution_count": 25,
     "metadata": {},
     "output_type": "execute_result"
    }
   ],
   "source": [
    "from sklearn.preprocessing import MinMaxScaler\n",
    "sc=MinMaxScaler()\n",
    "x_train=sc.fit_transform(x_train)\n",
    "x_test=sc.transform(x_test) \n",
    "from sklearn.linear_model import LogisticRegression\n",
    "logr=LogisticRegression()\n",
    "logr.fit(x_train,y_train)\n",
    "y_pred=logr.predict(x_test)\n",
    "import sklearn.metrics as metrics\n",
    "fpr,tpr,threshold=metrics.roc_curve(y_test,y_pred)\n",
    "roc_auc_LR=metrics.auc(fpr,tpr)\n",
    "from sklearn.metrics import accuracy_score\n",
    "accuracy_score(y_pred,y_test)"
   ]
  },
  {
   "cell_type": "code",
   "execution_count": 26,
   "metadata": {},
   "outputs": [
    {
     "data": {
      "text/plain": [
       "0.8131868131868132"
      ]
     },
     "execution_count": 26,
     "metadata": {},
     "output_type": "execute_result"
    }
   ],
   "source": [
    "from sklearn.neighbors import KNeighborsClassifier\n",
    "knn=KNeighborsClassifier(n_neighbors=5,p=2)\n",
    "knn.fit(x_train,y_train)\n",
    "y_pred_knn=knn.predict(x_test)\n",
    "fpr,tpr,threshold=metrics.roc_curve(y_test,y_pred)\n",
    "roc_auc_knn=metrics.auc(fpr,tpr)\n",
    "accuracy_score(y_test,y_pred_knn)"
   ]
  },
  {
   "cell_type": "code",
   "execution_count": 27,
   "metadata": {},
   "outputs": [
    {
     "name": "stderr",
     "output_type": "stream",
     "text": [
      "C:\\Anaconda3\\lib\\site-packages\\sklearn\\svm\\base.py:196: FutureWarning: The default value of gamma will change from 'auto' to 'scale' in version 0.22 to account better for unscaled features. Set gamma explicitly to 'auto' or 'scale' to avoid this warning.\n",
      "  \"avoid this warning.\", FutureWarning)\n"
     ]
    },
    {
     "data": {
      "text/plain": [
       "0.8131868131868132"
      ]
     },
     "execution_count": 27,
     "metadata": {},
     "output_type": "execute_result"
    }
   ],
   "source": [
    "from sklearn.svm import SVC\n",
    "model=SVC(kernel='rbf')\n",
    "model.fit(x_train,y_train)\n",
    "y_pred=model.predict(x_test)\n",
    "fpr,tpr,threshold=metrics.roc_curve(y_test,y_pred)\n",
    "roc_auc_nlsvc=metrics.auc(fpr,tpr)\n",
    "accuracy_score(y_test,y_pred)"
   ]
  },
  {
   "cell_type": "code",
   "execution_count": 28,
   "metadata": {},
   "outputs": [
    {
     "data": {
      "text/plain": [
       "0.8131868131868132"
      ]
     },
     "execution_count": 28,
     "metadata": {},
     "output_type": "execute_result"
    }
   ],
   "source": [
    "lsvm=SVC(kernel='linear')\n",
    "lsvm.fit(x_train,y_train)\n",
    "y_pred=lsvm.predict(x_test)\n",
    "fpr,tpr,threshold=metrics.roc_curve(y_test,y_pred)\n",
    "roc_auc_lscv=metrics.auc(fpr,tpr)\n",
    "accuracy_score(y_pred,y_test)"
   ]
  },
  {
   "cell_type": "code",
   "execution_count": 29,
   "metadata": {},
   "outputs": [
    {
     "data": {
      "text/plain": [
       "0.1978021978021978"
      ]
     },
     "execution_count": 29,
     "metadata": {},
     "output_type": "execute_result"
    }
   ],
   "source": [
    "from sklearn.naive_bayes import GaussianNB\n",
    "nb=GaussianNB()\n",
    "nb.fit(x_train,y_train)\n",
    "y_pred=nb.predict(x_test)\n",
    "fpr,tpr,threshold=metrics.roc_curve(y_test,y_pred)\n",
    "roc_auc_nb=metrics.auc(fpr,tpr)\n",
    "accuracy_score(y_pred,y_test)"
   ]
  },
  {
   "cell_type": "code",
   "execution_count": 30,
   "metadata": {},
   "outputs": [
    {
     "data": {
      "text/plain": [
       "0.7912087912087912"
      ]
     },
     "execution_count": 30,
     "metadata": {},
     "output_type": "execute_result"
    }
   ],
   "source": [
    "from sklearn.tree import DecisionTreeClassifier\n",
    "dt=DecisionTreeClassifier(criterion='entropy',splitter='best')\n",
    "dt.fit(x_train,y_train)\n",
    "y_pred=dt.predict(x_test)\n",
    "fpr,tpr,threshold=metrics.roc_curve(y_test,y_pred)\n",
    "roc_auc_dt=metrics.auc(fpr,tpr)\n",
    "accuracy_score(y_pred,y_test)"
   ]
  },
  {
   "cell_type": "code",
   "execution_count": 31,
   "metadata": {},
   "outputs": [
    {
     "data": {
      "text/plain": [
       "0.7912087912087912"
      ]
     },
     "execution_count": 31,
     "metadata": {},
     "output_type": "execute_result"
    }
   ],
   "source": [
    "from sklearn.ensemble import RandomForestClassifier\n",
    "rf=RandomForestClassifier(n_estimators=6,criterion='entropy')\n",
    "rf.fit(x_train,y_train)\n",
    "y_pred=rf.predict(x_test)\n",
    "fpr,tpr,threshold=metrics.roc_curve(y_test,y_pred)\n",
    "roc_auc_rf=metrics.auc(fpr,tpr)\n",
    "accuracy_score(y_pred,y_test)"
   ]
  },
  {
   "cell_type": "code",
   "execution_count": 32,
   "metadata": {
    "scrolled": true
   },
   "outputs": [
    {
     "data": {
      "image/png": "[encoded data removed]",
      "text/plain": [
       "<Figure size 432x288 with 1 Axes>"
      ]
     },
     "metadata": {
      "needs_background": "light"
     },
     "output_type": "display_data"
    }
   ],
   "source": [
    "roclist=[roc_auc_LR,roc_auc_knn,roc_auc_lscv,roc_auc_nlsvc,roc_auc_nb,roc_auc_dt,roc_auc_rf]\n",
    "name=[\"LR\",\"KNN\",\"LSVM\",\"NLSVM\",\"NB\",\"DT\",\"RF\"]\n",
    "plt.bar(name,roclist)\n",
    "plt.title(\"Best Algorithm\")\n",
    "plt.xlabel(\"Algorithm\") \n",
    "plt.ylabel(\"ROC Value\") \n",
    "plt.show()"
   ]
  },
  {
   "cell_type": "code",
   "execution_count": 33,
   "metadata": {},
   "outputs": [
    {
     "data": {
      "text/plain": [
       "array([1, 0, 0, 0, 0, 0, 0, 0, 0, 1, 0, 0, 0, 1, 1, 0, 0, 0, 0, 0, 0, 0,\n",
       "       0, 0, 0, 0, 1, 0, 0, 0, 0, 0, 1, 0, 0, 0, 0, 1, 0, 0, 0, 1, 0, 0,\n",
       "       0, 1, 0, 0, 1, 0, 0, 1, 0, 1, 0, 0, 0, 0, 0, 0, 0, 0, 0, 1, 1, 0,\n",
       "       1, 0, 0, 0, 1, 0, 0, 0, 1, 0, 0, 0, 0, 0, 0, 0, 0, 0, 0, 0, 0, 0,\n",
       "       0, 0, 0], dtype=int64)"
      ]
     },
     "execution_count": 33,
     "metadata": {},
     "output_type": "execute_result"
    }
   ],
   "source": [
    "y_test"
   ]
  },
  {
   "cell_type": "code",
   "execution_count": 34,
   "metadata": {},
   "outputs": [
    {
     "data": {
      "text/plain": [
       "array([1, 0, 0, 0, 0, 0, 0, 1, 0, 0, 0, 0, 0, 0, 0, 0, 0, 0, 0, 0, 0, 0,\n",
       "       0, 1, 0, 0, 0, 0, 0, 0, 0, 0, 0, 0, 0, 0, 0, 0, 0, 0, 0, 0, 0, 0,\n",
       "       0, 0, 0, 0, 0, 0, 0, 0, 0, 0, 0, 0, 0, 0, 0, 0, 0, 0, 0, 0, 0, 0,\n",
       "       0, 0, 0, 0, 0, 0, 1, 0, 0, 0, 0, 0, 0, 0, 0, 0, 0, 0, 0, 0, 0, 0,\n",
       "       0, 0, 0], dtype=int64)"
      ]
     },
     "execution_count": 34,
     "metadata": {},
     "output_type": "execute_result"
    }
   ],
   "source": [
    "y_pred"
   ]
  },
  {
   "cell_type": "code",
   "execution_count": 37,
   "metadata": {},
   "outputs": [
    {
     "data": {
      "text/plain": [
       "array([1], dtype=int64)"
      ]
     },
     "execution_count": 37,
     "metadata": {},
     "output_type": "execute_result"
    }
   ],
   "source": [
    "dt.predict([[3,3.40,1.88,0,0,0,0,0,0,2,0,0,0,1,0,51]])"
   ]
  },
  {
   "cell_type": "code",
   "execution_count": null,
   "metadata": {},
   "outputs": [],
   "source": []
  }
 ],
 "metadata": {
  "kernelspec": {
   "display_name": "Python 3",
   "language": "python",
   "name": "python3"
  },
  "language_info": {
   "codemirror_mode": {
    "name": "ipython",
    "version": 3
   },
   "file_extension": ".py",
   "mimetype": "text/x-python",
   "name": "python",
   "nbconvert_exporter": "python",
   "pygments_lexer": "ipython3",
   "version": "3.7.3"
  }
 },
 "nbformat": 4,
 "nbformat_minor": 2
}
