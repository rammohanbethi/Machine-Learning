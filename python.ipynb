{
 "cells": [
  {
   "cell_type": "markdown",
   "metadata": {},
   "source": [
    "# Sona Python Day-1                  11/06/2020"
   ]
  },
  {
   "cell_type": "code",
   "execution_count": 2,
   "metadata": {},
   "outputs": [
    {
     "name": "stdout",
     "output_type": "stream",
     "text": [
      "Hello\n"
     ]
    }
   ],
   "source": [
    "print('Hello')"
   ]
  },
  {
   "cell_type": "code",
   "execution_count": 3,
   "metadata": {},
   "outputs": [
    {
     "data": {
      "text/plain": [
       "15"
      ]
     },
     "execution_count": 3,
     "metadata": {},
     "output_type": "execute_result"
    }
   ],
   "source": [
    "a=15\n",
    "a"
   ]
  },
  {
   "cell_type": "code",
   "execution_count": 4,
   "metadata": {},
   "outputs": [
    {
     "data": {
      "text/plain": [
       "int"
      ]
     },
     "execution_count": 4,
     "metadata": {},
     "output_type": "execute_result"
    }
   ],
   "source": [
    "type(a)"
   ]
  },
  {
   "cell_type": "code",
   "execution_count": 5,
   "metadata": {},
   "outputs": [],
   "source": [
    "a=15.5"
   ]
  },
  {
   "cell_type": "code",
   "execution_count": 7,
   "metadata": {},
   "outputs": [
    {
     "data": {
      "text/plain": [
       "float"
      ]
     },
     "execution_count": 7,
     "metadata": {},
     "output_type": "execute_result"
    }
   ],
   "source": [
    "type(a)"
   ]
  },
  {
   "cell_type": "code",
   "execution_count": 8,
   "metadata": {},
   "outputs": [],
   "source": [
    "b = 'Rammohan'"
   ]
  },
  {
   "cell_type": "code",
   "execution_count": 9,
   "metadata": {},
   "outputs": [
    {
     "data": {
      "text/plain": [
       "str"
      ]
     },
     "execution_count": 9,
     "metadata": {},
     "output_type": "execute_result"
    }
   ],
   "source": [
    "type(b)"
   ]
  },
  {
   "cell_type": "code",
   "execution_count": 11,
   "metadata": {},
   "outputs": [],
   "source": [
    "a,z,c=\"ram\",\"samrt\",2"
   ]
  },
  {
   "cell_type": "code",
   "execution_count": 12,
   "metadata": {},
   "outputs": [
    {
     "data": {
      "text/plain": [
       "'ram'"
      ]
     },
     "execution_count": 12,
     "metadata": {},
     "output_type": "execute_result"
    }
   ],
   "source": [
    "a"
   ]
  },
  {
   "cell_type": "code",
   "execution_count": 13,
   "metadata": {},
   "outputs": [],
   "source": [
    "Z=\"Hello interns\"  #in strings space is also index"
   ]
  },
  {
   "cell_type": "code",
   "execution_count": 14,
   "metadata": {},
   "outputs": [
    {
     "data": {
      "text/plain": [
       "'l'"
      ]
     },
     "execution_count": 14,
     "metadata": {},
     "output_type": "execute_result"
    }
   ],
   "source": [
    "Z[2]"
   ]
  },
  {
   "cell_type": "code",
   "execution_count": 18,
   "metadata": {},
   "outputs": [
    {
     "data": {
      "text/plain": [
       "'i'"
      ]
     },
     "execution_count": 18,
     "metadata": {},
     "output_type": "execute_result"
    }
   ],
   "source": [
    "Z[-7]"
   ]
  },
  {
   "cell_type": "code",
   "execution_count": 19,
   "metadata": {},
   "outputs": [
    {
     "data": {
      "text/plain": [
       "'s'"
      ]
     },
     "execution_count": 19,
     "metadata": {},
     "output_type": "execute_result"
    }
   ],
   "source": [
    "Z[-1] #reverse indexing "
   ]
  },
  {
   "cell_type": "code",
   "execution_count": 20,
   "metadata": {},
   "outputs": [
    {
     "data": {
      "text/plain": [
       "'int'"
      ]
     },
     "execution_count": 20,
     "metadata": {},
     "output_type": "execute_result"
    }
   ],
   "source": [
    "Z[6:9] #slicing"
   ]
  },
  {
   "cell_type": "code",
   "execution_count": 21,
   "metadata": {},
   "outputs": [
    {
     "data": {
      "text/plain": [
       "['__add__',\n",
       " '__class__',\n",
       " '__contains__',\n",
       " '__delattr__',\n",
       " '__dir__',\n",
       " '__doc__',\n",
       " '__eq__',\n",
       " '__format__',\n",
       " '__ge__',\n",
       " '__getattribute__',\n",
       " '__getitem__',\n",
       " '__getnewargs__',\n",
       " '__gt__',\n",
       " '__hash__',\n",
       " '__init__',\n",
       " '__init_subclass__',\n",
       " '__iter__',\n",
       " '__le__',\n",
       " '__len__',\n",
       " '__lt__',\n",
       " '__mod__',\n",
       " '__mul__',\n",
       " '__ne__',\n",
       " '__new__',\n",
       " '__reduce__',\n",
       " '__reduce_ex__',\n",
       " '__repr__',\n",
       " '__rmod__',\n",
       " '__rmul__',\n",
       " '__setattr__',\n",
       " '__sizeof__',\n",
       " '__str__',\n",
       " '__subclasshook__',\n",
       " 'capitalize',\n",
       " 'casefold',\n",
       " 'center',\n",
       " 'count',\n",
       " 'encode',\n",
       " 'endswith',\n",
       " 'expandtabs',\n",
       " 'find',\n",
       " 'format',\n",
       " 'format_map',\n",
       " 'index',\n",
       " 'isalnum',\n",
       " 'isalpha',\n",
       " 'isascii',\n",
       " 'isdecimal',\n",
       " 'isdigit',\n",
       " 'isidentifier',\n",
       " 'islower',\n",
       " 'isnumeric',\n",
       " 'isprintable',\n",
       " 'isspace',\n",
       " 'istitle',\n",
       " 'isupper',\n",
       " 'join',\n",
       " 'ljust',\n",
       " 'lower',\n",
       " 'lstrip',\n",
       " 'maketrans',\n",
       " 'partition',\n",
       " 'replace',\n",
       " 'rfind',\n",
       " 'rindex',\n",
       " 'rjust',\n",
       " 'rpartition',\n",
       " 'rsplit',\n",
       " 'rstrip',\n",
       " 'split',\n",
       " 'splitlines',\n",
       " 'startswith',\n",
       " 'strip',\n",
       " 'swapcase',\n",
       " 'title',\n",
       " 'translate',\n",
       " 'upper',\n",
       " 'zfill']"
      ]
     },
     "execution_count": 21,
     "metadata": {},
     "output_type": "execute_result"
    }
   ],
   "source": [
    "dir(Z)  #functions of strings"
   ]
  },
  {
   "cell_type": "code",
   "execution_count": 22,
   "metadata": {},
   "outputs": [
    {
     "data": {
      "text/plain": [
       "'HELLO INTERNS'"
      ]
     },
     "execution_count": 22,
     "metadata": {},
     "output_type": "execute_result"
    }
   ],
   "source": [
    "Z.upper()"
   ]
  },
  {
   "cell_type": "markdown",
   "metadata": {},
   "source": [
    "# data structures"
   ]
  },
  {
   "cell_type": "markdown",
   "metadata": {},
   "source": [
    "# List"
   ]
  },
  {
   "cell_type": "code",
   "execution_count": 28,
   "metadata": {},
   "outputs": [
    {
     "data": {
      "text/plain": [
       "[2.2, 2, 'smartbridge', 'interns']"
      ]
     },
     "execution_count": 28,
     "metadata": {},
     "output_type": "execute_result"
    }
   ],
   "source": [
    "p=[2.2,2,'smartbridge','interns']\n",
    "p"
   ]
  },
  {
   "cell_type": "code",
   "execution_count": 29,
   "metadata": {},
   "outputs": [
    {
     "data": {
      "text/plain": [
       "list"
      ]
     },
     "execution_count": 29,
     "metadata": {},
     "output_type": "execute_result"
    }
   ],
   "source": [
    "type(p)"
   ]
  },
  {
   "cell_type": "code",
   "execution_count": 31,
   "metadata": {},
   "outputs": [
    {
     "data": {
      "text/plain": [
       "'smartbridge'"
      ]
     },
     "execution_count": 31,
     "metadata": {},
     "output_type": "execute_result"
    }
   ],
   "source": [
    "p[2]"
   ]
  },
  {
   "cell_type": "code",
   "execution_count": 32,
   "metadata": {},
   "outputs": [
    {
     "data": {
      "text/plain": [
       "str"
      ]
     },
     "execution_count": 32,
     "metadata": {},
     "output_type": "execute_result"
    }
   ],
   "source": [
    "type(p[2])"
   ]
  },
  {
   "cell_type": "code",
   "execution_count": 33,
   "metadata": {},
   "outputs": [
    {
     "data": {
      "text/plain": [
       "['smartbridge', 'interns']"
      ]
     },
     "execution_count": 33,
     "metadata": {},
     "output_type": "execute_result"
    }
   ],
   "source": [
    "p[2:]"
   ]
  },
  {
   "cell_type": "code",
   "execution_count": 34,
   "metadata": {},
   "outputs": [
    {
     "data": {
      "text/plain": [
       "4"
      ]
     },
     "execution_count": 34,
     "metadata": {},
     "output_type": "execute_result"
    }
   ],
   "source": [
    "len(p)"
   ]
  },
  {
   "cell_type": "code",
   "execution_count": 37,
   "metadata": {},
   "outputs": [],
   "source": [
    "p.append('Rammohan') # appending elements to list"
   ]
  },
  {
   "cell_type": "code",
   "execution_count": 38,
   "metadata": {},
   "outputs": [
    {
     "data": {
      "text/plain": [
       "[2.2, 2, 'smartbridge', 'interns', 'Rammoha', 'Rammohan']"
      ]
     },
     "execution_count": 38,
     "metadata": {},
     "output_type": "execute_result"
    }
   ],
   "source": [
    "p"
   ]
  },
  {
   "cell_type": "code",
   "execution_count": 41,
   "metadata": {},
   "outputs": [],
   "source": [
    "p.insert(2,'RSIP') #inserting elements in with location or index"
   ]
  },
  {
   "cell_type": "code",
   "execution_count": 42,
   "metadata": {},
   "outputs": [
    {
     "data": {
      "text/plain": [
       "[2.2, 2, 'RSIP', 'Mohan', 'smartbridge', 'interns', 'Rammoha', 'Rammohan']"
      ]
     },
     "execution_count": 42,
     "metadata": {},
     "output_type": "execute_result"
    }
   ],
   "source": [
    "p"
   ]
  },
  {
   "cell_type": "code",
   "execution_count": 43,
   "metadata": {},
   "outputs": [],
   "source": [
    "p.insert(5,'Hello')"
   ]
  },
  {
   "cell_type": "code",
   "execution_count": 44,
   "metadata": {},
   "outputs": [
    {
     "data": {
      "text/plain": [
       "[2.2,\n",
       " 2,\n",
       " 'RSIP',\n",
       " 'Mohan',\n",
       " 'smartbridge',\n",
       " 'Hello',\n",
       " 'interns',\n",
       " 'Rammoha',\n",
       " 'Rammohan']"
      ]
     },
     "execution_count": 44,
     "metadata": {},
     "output_type": "execute_result"
    }
   ],
   "source": [
    "p"
   ]
  },
  {
   "cell_type": "code",
   "execution_count": 47,
   "metadata": {},
   "outputs": [],
   "source": [
    "p[7]=\"smartbridge\""
   ]
  },
  {
   "cell_type": "code",
   "execution_count": 48,
   "metadata": {},
   "outputs": [
    {
     "data": {
      "text/plain": [
       "[2.2,\n",
       " 2,\n",
       " 'RSIP',\n",
       " 'Mohan',\n",
       " 'smartbridge',\n",
       " 'Hello',\n",
       " 'interns',\n",
       " 'smartbridge',\n",
       " 'Rammohan']"
      ]
     },
     "execution_count": 48,
     "metadata": {},
     "output_type": "execute_result"
    }
   ],
   "source": [
    "p"
   ]
  },
  {
   "cell_type": "code",
   "execution_count": 49,
   "metadata": {},
   "outputs": [
    {
     "data": {
      "text/plain": [
       "2"
      ]
     },
     "execution_count": 49,
     "metadata": {},
     "output_type": "execute_result"
    }
   ],
   "source": [
    "p.count('smartbridge')"
   ]
  },
  {
   "cell_type": "code",
   "execution_count": 50,
   "metadata": {},
   "outputs": [
    {
     "data": {
      "text/plain": [
       "1"
      ]
     },
     "execution_count": 50,
     "metadata": {},
     "output_type": "execute_result"
    }
   ],
   "source": [
    "p.count('Rammohan')"
   ]
  },
  {
   "cell_type": "code",
   "execution_count": 55,
   "metadata": {},
   "outputs": [
    {
     "data": {
      "text/plain": [
       "7"
      ]
     },
     "execution_count": 55,
     "metadata": {},
     "output_type": "execute_result"
    }
   ],
   "source": [
    "p.index(\"smartbridge\",5) #postion of repeated string after the number"
   ]
  },
  {
   "cell_type": "code",
   "execution_count": 57,
   "metadata": {},
   "outputs": [],
   "source": [
    "p.remove('Mohan')"
   ]
  },
  {
   "cell_type": "code",
   "execution_count": 58,
   "metadata": {},
   "outputs": [],
   "source": [
    "p.remove('Rammohan')"
   ]
  },
  {
   "cell_type": "code",
   "execution_count": 59,
   "metadata": {},
   "outputs": [
    {
     "data": {
      "text/plain": [
       "[2.2, 2, 'RSIP', 'smartbridge', 'Hello', 'interns', 'smartbridge']"
      ]
     },
     "execution_count": 59,
     "metadata": {},
     "output_type": "execute_result"
    }
   ],
   "source": [
    "p"
   ]
  },
  {
   "cell_type": "code",
   "execution_count": 62,
   "metadata": {},
   "outputs": [
    {
     "data": {
      "text/plain": [
       "'RSIP'"
      ]
     },
     "execution_count": 62,
     "metadata": {},
     "output_type": "execute_result"
    }
   ],
   "source": [
    "p.pop(0)   #pop method accept index numbers of it"
   ]
  },
  {
   "cell_type": "code",
   "execution_count": 63,
   "metadata": {},
   "outputs": [
    {
     "data": {
      "text/plain": [
       "['smartbridge', 'Hello', 'interns', 'smartbridge']"
      ]
     },
     "execution_count": 63,
     "metadata": {},
     "output_type": "execute_result"
    }
   ],
   "source": [
    "p"
   ]
  },
  {
   "cell_type": "code",
   "execution_count": 65,
   "metadata": {},
   "outputs": [],
   "source": [
    "p.extend([\"Bethi rammohan\",\"ML engineer\"])"
   ]
  },
  {
   "cell_type": "code",
   "execution_count": 66,
   "metadata": {},
   "outputs": [
    {
     "data": {
      "text/plain": [
       "['smartbridge',\n",
       " 'Hello',\n",
       " 'interns',\n",
       " 'smartbridge',\n",
       " 'Bethi rammohan',\n",
       " 'ML engineer']"
      ]
     },
     "execution_count": 66,
     "metadata": {},
     "output_type": "execute_result"
    }
   ],
   "source": [
    "p"
   ]
  },
  {
   "cell_type": "code",
   "execution_count": 67,
   "metadata": {},
   "outputs": [
    {
     "data": {
      "text/plain": [
       "['__add__',\n",
       " '__class__',\n",
       " '__contains__',\n",
       " '__delattr__',\n",
       " '__delitem__',\n",
       " '__dir__',\n",
       " '__doc__',\n",
       " '__eq__',\n",
       " '__format__',\n",
       " '__ge__',\n",
       " '__getattribute__',\n",
       " '__getitem__',\n",
       " '__gt__',\n",
       " '__hash__',\n",
       " '__iadd__',\n",
       " '__imul__',\n",
       " '__init__',\n",
       " '__init_subclass__',\n",
       " '__iter__',\n",
       " '__le__',\n",
       " '__len__',\n",
       " '__lt__',\n",
       " '__mul__',\n",
       " '__ne__',\n",
       " '__new__',\n",
       " '__reduce__',\n",
       " '__reduce_ex__',\n",
       " '__repr__',\n",
       " '__reversed__',\n",
       " '__rmul__',\n",
       " '__setattr__',\n",
       " '__setitem__',\n",
       " '__sizeof__',\n",
       " '__str__',\n",
       " '__subclasshook__',\n",
       " 'append',\n",
       " 'clear',\n",
       " 'copy',\n",
       " 'count',\n",
       " 'extend',\n",
       " 'index',\n",
       " 'insert',\n",
       " 'pop',\n",
       " 'remove',\n",
       " 'reverse',\n",
       " 'sort']"
      ]
     },
     "execution_count": 67,
     "metadata": {},
     "output_type": "execute_result"
    }
   ],
   "source": [
    "dir(p)  #elements or functions of lists"
   ]
  },
  {
   "cell_type": "markdown",
   "metadata": {},
   "source": [
    "# Tuples"
   ]
  },
  {
   "cell_type": "code",
   "execution_count": 70,
   "metadata": {},
   "outputs": [
    {
     "data": {
      "text/plain": [
       "(5, 25, 20, 'RSIP')"
      ]
     },
     "execution_count": 70,
     "metadata": {},
     "output_type": "execute_result"
    }
   ],
   "source": [
    "a=(5,25,20,'RSIP')\n",
    "a"
   ]
  },
  {
   "cell_type": "code",
   "execution_count": 71,
   "metadata": {},
   "outputs": [
    {
     "data": {
      "text/plain": [
       "tuple"
      ]
     },
     "execution_count": 71,
     "metadata": {},
     "output_type": "execute_result"
    }
   ],
   "source": [
    "type(a)"
   ]
  },
  {
   "cell_type": "code",
   "execution_count": 74,
   "metadata": {},
   "outputs": [
    {
     "data": {
      "text/plain": [
       "(25, 20)"
      ]
     },
     "execution_count": 74,
     "metadata": {},
     "output_type": "execute_result"
    }
   ],
   "source": [
    "a[1:3]"
   ]
  },
  {
   "cell_type": "code",
   "execution_count": 76,
   "metadata": {},
   "outputs": [],
   "source": [
    "#a[1]=52 #immutable"
   ]
  },
  {
   "cell_type": "code",
   "execution_count": 77,
   "metadata": {},
   "outputs": [],
   "source": [
    "a=list(a) #converting tuple into list"
   ]
  },
  {
   "cell_type": "code",
   "execution_count": 78,
   "metadata": {},
   "outputs": [
    {
     "data": {
      "text/plain": [
       "[5, 25, 20, 'RSIP']"
      ]
     },
     "execution_count": 78,
     "metadata": {},
     "output_type": "execute_result"
    }
   ],
   "source": [
    "a"
   ]
  },
  {
   "cell_type": "code",
   "execution_count": 79,
   "metadata": {},
   "outputs": [],
   "source": [
    "a=tuple(a) #converting tuple into list"
   ]
  },
  {
   "cell_type": "code",
   "execution_count": 80,
   "metadata": {},
   "outputs": [
    {
     "data": {
      "text/plain": [
       "(5, 25, 20, 'RSIP')"
      ]
     },
     "execution_count": 80,
     "metadata": {},
     "output_type": "execute_result"
    }
   ],
   "source": [
    "a"
   ]
  },
  {
   "cell_type": "code",
   "execution_count": 81,
   "metadata": {},
   "outputs": [
    {
     "data": {
      "text/plain": [
       "1"
      ]
     },
     "execution_count": 81,
     "metadata": {},
     "output_type": "execute_result"
    }
   ],
   "source": [
    "a.count(5) "
   ]
  },
  {
   "cell_type": "code",
   "execution_count": 82,
   "metadata": {},
   "outputs": [
    {
     "data": {
      "text/plain": [
       "4"
      ]
     },
     "execution_count": 82,
     "metadata": {},
     "output_type": "execute_result"
    }
   ],
   "source": [
    "len(a)  #length of a"
   ]
  },
  {
   "cell_type": "code",
   "execution_count": 83,
   "metadata": {},
   "outputs": [
    {
     "data": {
      "text/plain": [
       "['__add__',\n",
       " '__class__',\n",
       " '__contains__',\n",
       " '__delattr__',\n",
       " '__dir__',\n",
       " '__doc__',\n",
       " '__eq__',\n",
       " '__format__',\n",
       " '__ge__',\n",
       " '__getattribute__',\n",
       " '__getitem__',\n",
       " '__getnewargs__',\n",
       " '__gt__',\n",
       " '__hash__',\n",
       " '__init__',\n",
       " '__init_subclass__',\n",
       " '__iter__',\n",
       " '__le__',\n",
       " '__len__',\n",
       " '__lt__',\n",
       " '__mul__',\n",
       " '__ne__',\n",
       " '__new__',\n",
       " '__reduce__',\n",
       " '__reduce_ex__',\n",
       " '__repr__',\n",
       " '__rmul__',\n",
       " '__setattr__',\n",
       " '__sizeof__',\n",
       " '__str__',\n",
       " '__subclasshook__',\n",
       " 'count',\n",
       " 'index']"
      ]
     },
     "execution_count": 83,
     "metadata": {},
     "output_type": "execute_result"
    }
   ],
   "source": [
    "dir(a) #tuple functions or elements"
   ]
  },
  {
   "cell_type": "code",
   "execution_count": 84,
   "metadata": {},
   "outputs": [
    {
     "name": "stdout",
     "output_type": "stream",
     "text": [
      "Size of a: 80bytes\n"
     ]
    }
   ],
   "source": [
    "print(\"Size of a: \" + str(sys.getsizeof(a)) + \"bytes\") "
   ]
  },
  {
   "cell_type": "code",
   "execution_count": 86,
   "metadata": {},
   "outputs": [
    {
     "data": {
      "text/plain": [
       "56"
      ]
     },
     "execution_count": 86,
     "metadata": {},
     "output_type": "execute_result"
    }
   ],
   "source": [
    "a.__sizeof__()"
   ]
  },
  {
   "cell_type": "markdown",
   "metadata": {},
   "source": [
    "# Dictionary"
   ]
  },
  {
   "cell_type": "code",
   "execution_count": 87,
   "metadata": {},
   "outputs": [
    {
     "data": {
      "text/plain": [
       "{'captain': 'virat', 'keeper': 'Dhoni', 'Bowler': 'Bhumrah'}"
      ]
     },
     "execution_count": 87,
     "metadata": {},
     "output_type": "execute_result"
    }
   ],
   "source": [
    "cricket={\"captain\":\"virat\",\"keeper\":\"Dhoni\",\"Bowler\":\"Bhumrah\"}\n",
    "cricket"
   ]
  },
  {
   "cell_type": "code",
   "execution_count": 88,
   "metadata": {},
   "outputs": [
    {
     "data": {
      "text/plain": [
       "dict"
      ]
     },
     "execution_count": 88,
     "metadata": {},
     "output_type": "execute_result"
    }
   ],
   "source": [
    "type(cricket)"
   ]
  },
  {
   "cell_type": "code",
   "execution_count": 89,
   "metadata": {},
   "outputs": [
    {
     "data": {
      "text/plain": [
       "dict_keys(['captain', 'keeper', 'Bowler'])"
      ]
     },
     "execution_count": 89,
     "metadata": {},
     "output_type": "execute_result"
    }
   ],
   "source": [
    "cricket.keys()"
   ]
  },
  {
   "cell_type": "code",
   "execution_count": 90,
   "metadata": {},
   "outputs": [
    {
     "data": {
      "text/plain": [
       "dict_values(['virat', 'Dhoni', 'Bhumrah'])"
      ]
     },
     "execution_count": 90,
     "metadata": {},
     "output_type": "execute_result"
    }
   ],
   "source": [
    "cricket.values()"
   ]
  },
  {
   "cell_type": "code",
   "execution_count": 91,
   "metadata": {},
   "outputs": [
    {
     "data": {
      "text/plain": [
       "['__class__',\n",
       " '__contains__',\n",
       " '__delattr__',\n",
       " '__delitem__',\n",
       " '__dir__',\n",
       " '__doc__',\n",
       " '__eq__',\n",
       " '__format__',\n",
       " '__ge__',\n",
       " '__getattribute__',\n",
       " '__getitem__',\n",
       " '__gt__',\n",
       " '__hash__',\n",
       " '__init__',\n",
       " '__init_subclass__',\n",
       " '__iter__',\n",
       " '__le__',\n",
       " '__len__',\n",
       " '__lt__',\n",
       " '__ne__',\n",
       " '__new__',\n",
       " '__reduce__',\n",
       " '__reduce_ex__',\n",
       " '__repr__',\n",
       " '__setattr__',\n",
       " '__setitem__',\n",
       " '__sizeof__',\n",
       " '__str__',\n",
       " '__subclasshook__',\n",
       " 'clear',\n",
       " 'copy',\n",
       " 'fromkeys',\n",
       " 'get',\n",
       " 'items',\n",
       " 'keys',\n",
       " 'pop',\n",
       " 'popitem',\n",
       " 'setdefault',\n",
       " 'update',\n",
       " 'values']"
      ]
     },
     "execution_count": 91,
     "metadata": {},
     "output_type": "execute_result"
    }
   ],
   "source": [
    "dir(cricket)"
   ]
  },
  {
   "cell_type": "code",
   "execution_count": 93,
   "metadata": {},
   "outputs": [
    {
     "data": {
      "text/plain": [
       "'virat'"
      ]
     },
     "execution_count": 93,
     "metadata": {},
     "output_type": "execute_result"
    }
   ],
   "source": [
    "cricket[\"captain\"]"
   ]
  },
  {
   "cell_type": "code",
   "execution_count": 94,
   "metadata": {},
   "outputs": [
    {
     "data": {
      "text/plain": [
       "'virat'"
      ]
     },
     "execution_count": 94,
     "metadata": {},
     "output_type": "execute_result"
    }
   ],
   "source": [
    "cricket.get('captain')"
   ]
  },
  {
   "cell_type": "code",
   "execution_count": 96,
   "metadata": {},
   "outputs": [
    {
     "data": {
      "text/plain": [
       "{'alphabet': ['a', 'b', 'c'], 'Numbers': [1, 2, 3]}"
      ]
     },
     "execution_count": 96,
     "metadata": {},
     "output_type": "execute_result"
    }
   ],
   "source": [
    "z={\"alphabet\":[\"a\",\"b\",\"c\"],\"Numbers\":[1,2,3]}\n",
    "z"
   ]
  },
  {
   "cell_type": "code",
   "execution_count": 97,
   "metadata": {},
   "outputs": [
    {
     "data": {
      "text/plain": [
       "dict_items([('alphabet', ['a', 'b', 'c']), ('Numbers', [1, 2, 3])])"
      ]
     },
     "execution_count": 97,
     "metadata": {},
     "output_type": "execute_result"
    }
   ],
   "source": [
    "z.items()"
   ]
  },
  {
   "cell_type": "code",
   "execution_count": 98,
   "metadata": {},
   "outputs": [],
   "source": [
    "cricket['coach']=\"Ravi\""
   ]
  },
  {
   "cell_type": "code",
   "execution_count": 99,
   "metadata": {},
   "outputs": [
    {
     "data": {
      "text/plain": [
       "{'captain': 'virat', 'keeper': 'Dhoni', 'Bowler': 'Bhumrah', 'coach': 'Ravi'}"
      ]
     },
     "execution_count": 99,
     "metadata": {},
     "output_type": "execute_result"
    }
   ],
   "source": [
    "cricket"
   ]
  },
  {
   "cell_type": "code",
   "execution_count": 100,
   "metadata": {},
   "outputs": [],
   "source": [
    "new={\"Team\":\"India\",\"Game\":\"Cricket\"}"
   ]
  },
  {
   "cell_type": "code",
   "execution_count": 101,
   "metadata": {},
   "outputs": [],
   "source": [
    "cricket.update(new)"
   ]
  },
  {
   "cell_type": "code",
   "execution_count": 102,
   "metadata": {},
   "outputs": [
    {
     "data": {
      "text/plain": [
       "{'captain': 'virat',\n",
       " 'keeper': 'Dhoni',\n",
       " 'Bowler': 'Bhumrah',\n",
       " 'coach': 'Ravi',\n",
       " 'Team': 'India',\n",
       " 'Game': 'Cricket'}"
      ]
     },
     "execution_count": 102,
     "metadata": {},
     "output_type": "execute_result"
    }
   ],
   "source": [
    "cricket"
   ]
  },
  {
   "cell_type": "markdown",
   "metadata": {},
   "source": [
    "# If Condition"
   ]
  },
  {
   "cell_type": "code",
   "execution_count": 107,
   "metadata": {},
   "outputs": [
    {
     "name": "stdout",
     "output_type": "stream",
     "text": [
      "Enter Number9160\n",
      "9160\n"
     ]
    },
    {
     "data": {
      "text/plain": [
       "'num = int(input(\"Enter Number\"))\\nprint(num)'"
      ]
     },
     "execution_count": 107,
     "metadata": {},
     "output_type": "execute_result"
    }
   ],
   "source": [
    "num = input(\"Enter Number\")\n",
    "print(num)\n",
    "\n",
    "'''num = int(input(\"Enter Number\"))\n",
    "print(num)'''"
   ]
  },
  {
   "cell_type": "code",
   "execution_count": 126,
   "metadata": {},
   "outputs": [
    {
     "name": "stdout",
     "output_type": "stream",
     "text": [
      "Enter Number : 63\n",
      "63\n",
      "63 is odd\n",
      "In else\n",
      "out of indentation\n"
     ]
    }
   ],
   "source": [
    "num = int(input(\"Enter Number : \"))\n",
    "print(num)\n",
    "if(num%2==0):\n",
    "    print(num,\"is even\")\n",
    "    print(\"Still if\")\n",
    "elif(not(num%2==0)):\n",
    "    print(num,\"is odd\")\n",
    "    print(\"In else\")\n",
    "print(\"out of indentation\")"
   ]
  },
  {
   "cell_type": "raw",
   "metadata": {},
   "source": [
    "#other programming lang..\n",
    "for i=0;i<52;i++\n",
    "{\n",
    "    \n",
    "}"
   ]
  },
  {
   "cell_type": "code",
   "execution_count": 115,
   "metadata": {},
   "outputs": [
    {
     "name": "stdout",
     "output_type": "stream",
     "text": [
      "1\n",
      "2\n",
      "3\n",
      "4\n",
      "5\n",
      "6\n"
     ]
    }
   ],
   "source": [
    "z=[1,2,3,4,5,6]\n",
    "\n",
    "for i in z:\n",
    "    print(i)"
   ]
  },
  {
   "cell_type": "code",
   "execution_count": 122,
   "metadata": {},
   "outputs": [
    {
     "name": "stdout",
     "output_type": "stream",
     "text": [
      "0\n",
      "10\n",
      "20\n",
      "30\n",
      "40\n",
      "50\n"
     ]
    }
   ],
   "source": [
    "for a in range(0,51,10): \n",
    "    print(a)"
   ]
  },
  {
   "cell_type": "code",
   "execution_count": 125,
   "metadata": {
    "scrolled": true
   },
   "outputs": [
    {
     "name": "stdout",
     "output_type": "stream",
     "text": [
      "51\n",
      "41\n",
      "31\n",
      "21\n",
      "11\n",
      "1\n"
     ]
    }
   ],
   "source": [
    "for a in range(51,0,-10):  #decrementation or step size\n",
    "    print(a)"
   ]
  },
  {
   "cell_type": "markdown",
   "metadata": {},
   "source": [
    "# while loop"
   ]
  },
  {
   "cell_type": "raw",
   "metadata": {},
   "source": [
    "while(expression):\n",
    "    statement(s)"
   ]
  },
  {
   "cell_type": "code",
   "execution_count": 128,
   "metadata": {},
   "outputs": [
    {
     "name": "stdout",
     "output_type": "stream",
     "text": [
      "Enter Number : 26\n",
      "out of while loop\n"
     ]
    }
   ],
   "source": [
    "value = int(input(\"Enter Number : \"))\n",
    "while(value<25):\n",
    "    value=value+1\n",
    "    print(value)\n",
    "else:\n",
    "    print(\"out of while loop\")"
   ]
  },
  {
   "cell_type": "markdown",
   "metadata": {},
   "source": [
    "# Sona Python Day - 2   12/06/2020"
   ]
  },
  {
   "cell_type": "markdown",
   "metadata": {},
   "source": [
    "# Function"
   ]
  },
  {
   "cell_type": "raw",
   "metadata": {},
   "source": [
    "\"\"\"\n",
    "syntax for user defined function\n",
    "def nameof function(para1,para2,...):\n",
    "    var1 = value\n",
    "    var2 = value\n",
    "    statement1\n",
    "    statement2\n",
    "    -------\n",
    "    return msg/value/variable\n",
    "\"\"\"    \n",
    "nameoffunction()"
   ]
  },
  {
   "cell_type": "code",
   "execution_count": 129,
   "metadata": {},
   "outputs": [],
   "source": [
    "def hello():\n",
    "    return \"this is rammohan\""
   ]
  },
  {
   "cell_type": "code",
   "execution_count": 130,
   "metadata": {},
   "outputs": [
    {
     "data": {
      "text/plain": [
       "'this is rammohan'"
      ]
     },
     "execution_count": 130,
     "metadata": {},
     "output_type": "execute_result"
    }
   ],
   "source": [
    "hello()"
   ]
  },
  {
   "cell_type": "code",
   "execution_count": 132,
   "metadata": {},
   "outputs": [
    {
     "name": "stdout",
     "output_type": "stream",
     "text": [
      "50\n"
     ]
    }
   ],
   "source": [
    "def add(a,b):\n",
    "    sum=a+b\n",
    "    print(sum)\n",
    "z=add(20,30)"
   ]
  },
  {
   "cell_type": "code",
   "execution_count": 133,
   "metadata": {},
   "outputs": [
    {
     "name": "stdout",
     "output_type": "stream",
     "text": [
      "50\n"
     ]
    }
   ],
   "source": [
    "def addition(a,b):\n",
    "    sum=a+b\n",
    "    print(sum)\n",
    "z=addition(20,30)"
   ]
  },
  {
   "cell_type": "code",
   "execution_count": 134,
   "metadata": {},
   "outputs": [],
   "source": [
    "z"
   ]
  },
  {
   "cell_type": "code",
   "execution_count": 135,
   "metadata": {},
   "outputs": [
    {
     "name": "stdout",
     "output_type": "stream",
     "text": [
      "100\n"
     ]
    }
   ],
   "source": [
    "def addition(a=20,b=30):\n",
    "    sum=a+b\n",
    "    print(sum)\n",
    "z=addition(70,30)"
   ]
  },
  {
   "cell_type": "markdown",
   "metadata": {},
   "source": [
    "# local variable and global variables"
   ]
  },
  {
   "cell_type": "code",
   "execution_count": 138,
   "metadata": {},
   "outputs": [
    {
     "data": {
      "text/plain": [
       "{'x': 1}"
      ]
     },
     "execution_count": 138,
     "metadata": {},
     "output_type": "execute_result"
    }
   ],
   "source": [
    "def f1():\n",
    "    x=1\n",
    "    return locals()\n",
    "z=f1()\n",
    "z"
   ]
  },
  {
   "cell_type": "code",
   "execution_count": 139,
   "metadata": {},
   "outputs": [
    {
     "data": {
      "text/plain": [
       "1"
      ]
     },
     "execution_count": 139,
     "metadata": {},
     "output_type": "execute_result"
    }
   ],
   "source": [
    "z['x']"
   ]
  },
  {
   "cell_type": "code",
   "execution_count": 141,
   "metadata": {},
   "outputs": [
    {
     "name": "stdout",
     "output_type": "stream",
     "text": [
      "{}\n"
     ]
    },
    {
     "data": {
      "text/plain": [
       "1"
      ]
     },
     "execution_count": 141,
     "metadata": {},
     "output_type": "execute_result"
    }
   ],
   "source": [
    "x2=1\n",
    "def f2():\n",
    "    print(locals())\n",
    "    return x2\n",
    "f2()"
   ]
  },
  {
   "cell_type": "code",
   "execution_count": 142,
   "metadata": {
    "collapsed": true
   },
   "outputs": [
    {
     "data": {
      "text/plain": [
       "{'__name__': '__main__',\n",
       " '__doc__': 'Automatically created module for IPython interactive environment',\n",
       " '__package__': None,\n",
       " '__loader__': None,\n",
       " '__spec__': None,\n",
       " '__builtin__': <module 'builtins' (built-in)>,\n",
       " '__builtins__': <module 'builtins' (built-in)>,\n",
       " '_ih': ['',\n",
       "  \"Print('Hello')\",\n",
       "  \"print('Hello')\",\n",
       "  'a=15\\na',\n",
       "  'type(a)',\n",
       "  'a=15.5',\n",
       "  'tpe(a)',\n",
       "  'type(a)',\n",
       "  \"b = 'Rammohan'\",\n",
       "  'type(b)',\n",
       "  'a,z,c=\"ram\",\"samrt\",',\n",
       "  'a,z,c=\"ram\",\"samrt\",2',\n",
       "  'a',\n",
       "  'Z=\"Hello interns\"',\n",
       "  'Z[2]',\n",
       "  'Z[6]',\n",
       "  'Z[-1]',\n",
       "  'Z[-1] #reverse slicing ',\n",
       "  'Z[-7]',\n",
       "  'Z[-1] #reverse slicing ',\n",
       "  'Z[6:9]',\n",
       "  'dir(Z)',\n",
       "  'Z.upper()',\n",
       "  '#data structures',\n",
       "  \"p=[2.2,2,'ram','mohan']\",\n",
       "  'type(p)',\n",
       "  \"p=[2.2,2,'ram','mohan']\\np\",\n",
       "  'type(p)',\n",
       "  \"p=[2.2,2,'smartbridge','interns']\\np\",\n",
       "  'type(p)',\n",
       "  'p[0:2]',\n",
       "  'p[2]',\n",
       "  'type(p[2])',\n",
       "  'p[2:]',\n",
       "  'len(p)',\n",
       "  \"p.append('Rammoha')\",\n",
       "  'p',\n",
       "  \"p.append('Rammohan')\",\n",
       "  'p',\n",
       "  \"p.insert(2,'Mohan')\",\n",
       "  'p',\n",
       "  \"p.insert(2,'RSIP') #inserting elements in with location or index\",\n",
       "  'p',\n",
       "  \"p.insert(5,'Hello')\",\n",
       "  'p',\n",
       "  'p[7=smartbridge]',\n",
       "  'p[7]=smartbridge',\n",
       "  'p[7]=\"smartbridge\"',\n",
       "  'p',\n",
       "  \"p.count('smartbridge')\",\n",
       "  \"p.count('Rammohan')\",\n",
       "  'p.index(\"interns\")',\n",
       "  'p.index(\"samrtbridge\",5)',\n",
       "  'p.index(\"smartbridge\",5)',\n",
       "  'p.index(\"smartbridge\",4)',\n",
       "  'p.index(\"smartbridge\",5)',\n",
       "  \"p.remove('Mohan','Rammohan')\",\n",
       "  \"p.remove('Mohan')\",\n",
       "  \"p.remove('Rammohan')\",\n",
       "  'p',\n",
       "  'p.pop(0)  #pop method accept index numbers of it',\n",
       "  'p.pop(0)\\np\\n#pop method accept index numbers of it',\n",
       "  'p.pop(0)   #pop method accept index numbers of it',\n",
       "  'p',\n",
       "  'p.extend([\"Bethi rammohan\"],[\"ML engineer\"])',\n",
       "  'p.extend([\"Bethi rammohan\",\"ML engineer\"])',\n",
       "  'p',\n",
       "  'dir(p)',\n",
       "  \"a=(5,25,20,'RSIP')\",\n",
       "  'type(a)',\n",
       "  \"a=(5,25,20,'RSIP')\\na\",\n",
       "  'type(a)',\n",
       "  'a[0:2]',\n",
       "  'a[0:3]',\n",
       "  'a[1:3]',\n",
       "  'a[1]=52',\n",
       "  '#a[1]=52 #immutable',\n",
       "  'a=list(a)',\n",
       "  'a',\n",
       "  'a=tuple(a)',\n",
       "  'a',\n",
       "  'a.count(5)',\n",
       "  'len(a)',\n",
       "  'dir(a)',\n",
       "  'print(\"Size of a: \" + str(sys.getsizeof(a)) + \"bytes\") ',\n",
       "  'a.__sizeof__',\n",
       "  'a.__sizeof__()',\n",
       "  'cricket={\"captain\":\"virat\",\"keeper\":\"Dhoni\",\"Bowler\":\"Bhumrah\"}\\ncricket',\n",
       "  'type(cricket)',\n",
       "  'cricket.keys()',\n",
       "  'cricket.values()',\n",
       "  'dir(cricket)',\n",
       "  'cricekt[\"captain\"]',\n",
       "  'cricket[\"captain\"]',\n",
       "  \"cricket.get('captain')\",\n",
       "  'z={\"alphabet\":[\"a\",\"b\",\"c\"],\"Numbers\":[1,2,3]}',\n",
       "  'z={\"alphabet\":[\"a\",\"b\",\"c\"],\"Numbers\":[1,2,3]}\\nz',\n",
       "  'z.items()',\n",
       "  'cricket[\\'coach\\']=\"Ravi\"',\n",
       "  'cricket',\n",
       "  'new={\"Team\":\"India\",\"Game\":\"Cricket\"}',\n",
       "  'cricket.update(new)',\n",
       "  'cricket',\n",
       "  'num = input(\"Enter Number:\")\\nprint(num)',\n",
       "  'num = input(\"Enter Number:\")\\nprint(num)',\n",
       "  'num = int(input(\"Enter Number:\"))\\nprint(num)',\n",
       "  'num = input(\"Enter Number\")\\nprint(num)',\n",
       "  'num = input(\"Enter Number\")\\nprint(num)\\n\\n\\'\\'\\'num = int(input(\"Enter Number\"))\\nprint(num)\\'\\'\\'',\n",
       "  'num = input(\"Enter Number\")\\nprint(num)\\nif(num%2==0):\\n    print(\"num is even\")',\n",
       "  'num = int(input(\"Enter Number\"))\\nprint(num)\\nif(num%2==0):\\n    print(\"num is even\")',\n",
       "  'num = int(input(\"Enter Number\"))\\nprint(num)\\nif(num%2==0):\\n    print(num,\"is even\")',\n",
       "  'num = int(input(\"Enter Number\"))\\nprint(num)\\nif(num%2==0):\\n    print(num,\"is even\")\\n    print(\"still if\")\\nelse:\\n    print(num,\"is odd\")',\n",
       "  'num = int(input(\"Enter Number\"))\\nprint(num)\\nif(num%2==0):\\n    print(num,\"is even\")\\n    print(\"still if\")\\nelse:\\n    print(num,\"is odd\")\\n    print(\"In else\")\\nprint(\"out of indentation\")',\n",
       "  'num = int(input(\"Enter Number : \"))\\nprint(num)\\nif(num%2==0):\\n    print(num,\"is even\")\\n    print(\"still if\")\\nelse:\\n    print(num,\"is odd\")\\n    print(\"In else\")\\nprint(\"out of indentation\")',\n",
       "  'num = int(input(\"Enter Number : \"))\\nprint(num)\\nif(num%2==0):\\n    print(num,\"is even\")\\n    print(\"Still if\")\\nelse:\\n    print(num,\"is odd\")\\n    print(\"In else\")\\nprint(\"out of indentation\")',\n",
       "  'z=[1,2,3,4,5,6]\\n\\nfor i in z:\\n    print(i)',\n",
       "  'for i in range(0,100):\\n    print(i)',\n",
       "  'for i in z:\\n    print(i)',\n",
       "  'for a in range(0,51):\\n    print(a)',\n",
       "  'for a in range(0,51,2):\\n    print(a)',\n",
       "  'for a in range(0,51,3):\\n    print(a)',\n",
       "  'for a in range(0,51,4):\\n    print(a)',\n",
       "  'for a in range(0,51,10):\\n    print(a)',\n",
       "  'for a in range(51,0,-10): \\n    print(a)',\n",
       "  'for a in range(51,1,-10):  #decrementation step size\\n    print(a)',\n",
       "  'for a in range(51,0,-10):  #decrementation step size\\n    print(a)',\n",
       "  'num = int(input(\"Enter Number : \"))\\nprint(num)\\nif(num%2==0):\\n    print(num,\"is even\")\\n    print(\"Still if\")\\nelif(not(num%2==0)):\\n    print(num,\"is odd\")\\n    print(\"In else\")\\nprint(\"out of indentation\")',\n",
       "  'value = int(input(\"Enter Number : \"))\\nwhile(value<25):\\n    value=value+1\\n    print(value)\\nelse:\\n    print(\"out of while loop\")',\n",
       "  'value = int(input(\"Enter Number : \"))\\nwhile(value<25):\\n    value=value+1\\n    print(value)\\nelse:\\n    print(\"out of while loop\")',\n",
       "  'def hello():\\n    return \"this is rammohan\"',\n",
       "  'hello()',\n",
       "  'def add(a,b):\\n    sum=a+b\\n    print sum\\nz=add(20,30)',\n",
       "  'def add(a,b):\\n    sum=a+b\\n    print(sum)\\nz=add(20,30)',\n",
       "  'def addition(a,b):\\n    sum=a+b\\n    print(sum)\\nz=addition(20,30)',\n",
       "  'z',\n",
       "  'def addition(a=20,b=30):\\n    sum=a+b\\n    print(sum)\\nz=addition(70,30)',\n",
       "  'def f1():\\n    x=1\\n    print(locals())\\nf1()',\n",
       "  'def f1():\\n    x=1\\n    return(locals())\\nz=f1()\\nz',\n",
       "  'def f1():\\n    x=1\\n    return locals()\\nz=f1()\\nz',\n",
       "  \"z['x']\",\n",
       "  'x2=1\\ndef f2():\\n    print(locals())\\n    return x2\\nf1()',\n",
       "  'x2=1\\ndef f2():\\n    print(locals())\\n    return x2\\nf2()',\n",
       "  'globals()'],\n",
       " '_oh': {3: 15,\n",
       "  4: int,\n",
       "  7: float,\n",
       "  9: str,\n",
       "  12: 'ram',\n",
       "  14: 'l',\n",
       "  15: 'i',\n",
       "  16: 's',\n",
       "  17: 's',\n",
       "  18: 'i',\n",
       "  19: 's',\n",
       "  20: 'int',\n",
       "  21: ['__add__',\n",
       "   '__class__',\n",
       "   '__contains__',\n",
       "   '__delattr__',\n",
       "   '__dir__',\n",
       "   '__doc__',\n",
       "   '__eq__',\n",
       "   '__format__',\n",
       "   '__ge__',\n",
       "   '__getattribute__',\n",
       "   '__getitem__',\n",
       "   '__getnewargs__',\n",
       "   '__gt__',\n",
       "   '__hash__',\n",
       "   '__init__',\n",
       "   '__init_subclass__',\n",
       "   '__iter__',\n",
       "   '__le__',\n",
       "   '__len__',\n",
       "   '__lt__',\n",
       "   '__mod__',\n",
       "   '__mul__',\n",
       "   '__ne__',\n",
       "   '__new__',\n",
       "   '__reduce__',\n",
       "   '__reduce_ex__',\n",
       "   '__repr__',\n",
       "   '__rmod__',\n",
       "   '__rmul__',\n",
       "   '__setattr__',\n",
       "   '__sizeof__',\n",
       "   '__str__',\n",
       "   '__subclasshook__',\n",
       "   'capitalize',\n",
       "   'casefold',\n",
       "   'center',\n",
       "   'count',\n",
       "   'encode',\n",
       "   'endswith',\n",
       "   'expandtabs',\n",
       "   'find',\n",
       "   'format',\n",
       "   'format_map',\n",
       "   'index',\n",
       "   'isalnum',\n",
       "   'isalpha',\n",
       "   'isascii',\n",
       "   'isdecimal',\n",
       "   'isdigit',\n",
       "   'isidentifier',\n",
       "   'islower',\n",
       "   'isnumeric',\n",
       "   'isprintable',\n",
       "   'isspace',\n",
       "   'istitle',\n",
       "   'isupper',\n",
       "   'join',\n",
       "   'ljust',\n",
       "   'lower',\n",
       "   'lstrip',\n",
       "   'maketrans',\n",
       "   'partition',\n",
       "   'replace',\n",
       "   'rfind',\n",
       "   'rindex',\n",
       "   'rjust',\n",
       "   'rpartition',\n",
       "   'rsplit',\n",
       "   'rstrip',\n",
       "   'split',\n",
       "   'splitlines',\n",
       "   'startswith',\n",
       "   'strip',\n",
       "   'swapcase',\n",
       "   'title',\n",
       "   'translate',\n",
       "   'upper',\n",
       "   'zfill'],\n",
       "  22: 'HELLO INTERNS',\n",
       "  25: list,\n",
       "  26: [2.2, 2, 'ram', 'mohan'],\n",
       "  27: list,\n",
       "  28: ['smartbridge',\n",
       "   'Hello',\n",
       "   'interns',\n",
       "   'smartbridge',\n",
       "   'Bethi rammohan',\n",
       "   'ML engineer'],\n",
       "  29: list,\n",
       "  30: [2.2, 2],\n",
       "  31: 'smartbridge',\n",
       "  32: str,\n",
       "  33: ['smartbridge', 'interns'],\n",
       "  34: 4,\n",
       "  36: ['smartbridge',\n",
       "   'Hello',\n",
       "   'interns',\n",
       "   'smartbridge',\n",
       "   'Bethi rammohan',\n",
       "   'ML engineer'],\n",
       "  38: ['smartbridge',\n",
       "   'Hello',\n",
       "   'interns',\n",
       "   'smartbridge',\n",
       "   'Bethi rammohan',\n",
       "   'ML engineer'],\n",
       "  40: ['smartbridge',\n",
       "   'Hello',\n",
       "   'interns',\n",
       "   'smartbridge',\n",
       "   'Bethi rammohan',\n",
       "   'ML engineer'],\n",
       "  42: ['smartbridge',\n",
       "   'Hello',\n",
       "   'interns',\n",
       "   'smartbridge',\n",
       "   'Bethi rammohan',\n",
       "   'ML engineer'],\n",
       "  44: ['smartbridge',\n",
       "   'Hello',\n",
       "   'interns',\n",
       "   'smartbridge',\n",
       "   'Bethi rammohan',\n",
       "   'ML engineer'],\n",
       "  48: ['smartbridge',\n",
       "   'Hello',\n",
       "   'interns',\n",
       "   'smartbridge',\n",
       "   'Bethi rammohan',\n",
       "   'ML engineer'],\n",
       "  49: 2,\n",
       "  50: 1,\n",
       "  51: 6,\n",
       "  53: 7,\n",
       "  54: 4,\n",
       "  55: 7,\n",
       "  59: ['smartbridge',\n",
       "   'Hello',\n",
       "   'interns',\n",
       "   'smartbridge',\n",
       "   'Bethi rammohan',\n",
       "   'ML engineer'],\n",
       "  60: 2.2,\n",
       "  61: ['smartbridge',\n",
       "   'Hello',\n",
       "   'interns',\n",
       "   'smartbridge',\n",
       "   'Bethi rammohan',\n",
       "   'ML engineer'],\n",
       "  62: 'RSIP',\n",
       "  63: ['smartbridge',\n",
       "   'Hello',\n",
       "   'interns',\n",
       "   'smartbridge',\n",
       "   'Bethi rammohan',\n",
       "   'ML engineer'],\n",
       "  66: ['smartbridge',\n",
       "   'Hello',\n",
       "   'interns',\n",
       "   'smartbridge',\n",
       "   'Bethi rammohan',\n",
       "   'ML engineer'],\n",
       "  67: ['__add__',\n",
       "   '__class__',\n",
       "   '__contains__',\n",
       "   '__delattr__',\n",
       "   '__delitem__',\n",
       "   '__dir__',\n",
       "   '__doc__',\n",
       "   '__eq__',\n",
       "   '__format__',\n",
       "   '__ge__',\n",
       "   '__getattribute__',\n",
       "   '__getitem__',\n",
       "   '__gt__',\n",
       "   '__hash__',\n",
       "   '__iadd__',\n",
       "   '__imul__',\n",
       "   '__init__',\n",
       "   '__init_subclass__',\n",
       "   '__iter__',\n",
       "   '__le__',\n",
       "   '__len__',\n",
       "   '__lt__',\n",
       "   '__mul__',\n",
       "   '__ne__',\n",
       "   '__new__',\n",
       "   '__reduce__',\n",
       "   '__reduce_ex__',\n",
       "   '__repr__',\n",
       "   '__reversed__',\n",
       "   '__rmul__',\n",
       "   '__setattr__',\n",
       "   '__setitem__',\n",
       "   '__sizeof__',\n",
       "   '__str__',\n",
       "   '__subclasshook__',\n",
       "   'append',\n",
       "   'clear',\n",
       "   'copy',\n",
       "   'count',\n",
       "   'extend',\n",
       "   'index',\n",
       "   'insert',\n",
       "   'pop',\n",
       "   'remove',\n",
       "   'reverse',\n",
       "   'sort'],\n",
       "  69: tuple,\n",
       "  70: (5, 25, 20, 'RSIP'),\n",
       "  71: tuple,\n",
       "  72: (5, 25),\n",
       "  73: (5, 25, 20),\n",
       "  74: (25, 20),\n",
       "  78: [5, 25, 20, 'RSIP'],\n",
       "  80: (5, 25, 20, 'RSIP'),\n",
       "  81: 1,\n",
       "  82: 4,\n",
       "  83: ['__add__',\n",
       "   '__class__',\n",
       "   '__contains__',\n",
       "   '__delattr__',\n",
       "   '__dir__',\n",
       "   '__doc__',\n",
       "   '__eq__',\n",
       "   '__format__',\n",
       "   '__ge__',\n",
       "   '__getattribute__',\n",
       "   '__getitem__',\n",
       "   '__getnewargs__',\n",
       "   '__gt__',\n",
       "   '__hash__',\n",
       "   '__init__',\n",
       "   '__init_subclass__',\n",
       "   '__iter__',\n",
       "   '__le__',\n",
       "   '__len__',\n",
       "   '__lt__',\n",
       "   '__mul__',\n",
       "   '__ne__',\n",
       "   '__new__',\n",
       "   '__reduce__',\n",
       "   '__reduce_ex__',\n",
       "   '__repr__',\n",
       "   '__rmul__',\n",
       "   '__setattr__',\n",
       "   '__sizeof__',\n",
       "   '__str__',\n",
       "   '__subclasshook__',\n",
       "   'count',\n",
       "   'index'],\n",
       "  85: <function tuple.__sizeof__()>,\n",
       "  86: 56,\n",
       "  87: {'captain': 'virat',\n",
       "   'keeper': 'Dhoni',\n",
       "   'Bowler': 'Bhumrah',\n",
       "   'coach': 'Ravi',\n",
       "   'Team': 'India',\n",
       "   'Game': 'Cricket'},\n",
       "  88: dict,\n",
       "  89: dict_keys(['captain', 'keeper', 'Bowler', 'coach', 'Team', 'Game']),\n",
       "  90: dict_values(['virat', 'Dhoni', 'Bhumrah', 'Ravi', 'India', 'Cricket']),\n",
       "  91: ['__class__',\n",
       "   '__contains__',\n",
       "   '__delattr__',\n",
       "   '__delitem__',\n",
       "   '__dir__',\n",
       "   '__doc__',\n",
       "   '__eq__',\n",
       "   '__format__',\n",
       "   '__ge__',\n",
       "   '__getattribute__',\n",
       "   '__getitem__',\n",
       "   '__gt__',\n",
       "   '__hash__',\n",
       "   '__init__',\n",
       "   '__init_subclass__',\n",
       "   '__iter__',\n",
       "   '__le__',\n",
       "   '__len__',\n",
       "   '__lt__',\n",
       "   '__ne__',\n",
       "   '__new__',\n",
       "   '__reduce__',\n",
       "   '__reduce_ex__',\n",
       "   '__repr__',\n",
       "   '__setattr__',\n",
       "   '__setitem__',\n",
       "   '__sizeof__',\n",
       "   '__str__',\n",
       "   '__subclasshook__',\n",
       "   'clear',\n",
       "   'copy',\n",
       "   'fromkeys',\n",
       "   'get',\n",
       "   'items',\n",
       "   'keys',\n",
       "   'pop',\n",
       "   'popitem',\n",
       "   'setdefault',\n",
       "   'update',\n",
       "   'values'],\n",
       "  93: 'virat',\n",
       "  94: 'virat',\n",
       "  96: {'alphabet': ['a', 'b', 'c'], 'Numbers': [1, 2, 3]},\n",
       "  97: dict_items([('alphabet', ['a', 'b', 'c']), ('Numbers', [1, 2, 3])]),\n",
       "  99: {'captain': 'virat',\n",
       "   'keeper': 'Dhoni',\n",
       "   'Bowler': 'Bhumrah',\n",
       "   'coach': 'Ravi',\n",
       "   'Team': 'India',\n",
       "   'Game': 'Cricket'},\n",
       "  102: {'captain': 'virat',\n",
       "   'keeper': 'Dhoni',\n",
       "   'Bowler': 'Bhumrah',\n",
       "   'coach': 'Ravi',\n",
       "   'Team': 'India',\n",
       "   'Game': 'Cricket'},\n",
       "  107: 'num = int(input(\"Enter Number\"))\\nprint(num)',\n",
       "  130: 'this is rammohan',\n",
       "  137: {'x': 1},\n",
       "  138: {'x': 1},\n",
       "  139: 1,\n",
       "  140: {'x': 1},\n",
       "  141: 1},\n",
       " '_dh': ['C:\\\\Users\\\\DELL\\\\Machine Learning Sona'],\n",
       " 'In': ['',\n",
       "  \"Print('Hello')\",\n",
       "  \"print('Hello')\",\n",
       "  'a=15\\na',\n",
       "  'type(a)',\n",
       "  'a=15.5',\n",
       "  'tpe(a)',\n",
       "  'type(a)',\n",
       "  \"b = 'Rammohan'\",\n",
       "  'type(b)',\n",
       "  'a,z,c=\"ram\",\"samrt\",',\n",
       "  'a,z,c=\"ram\",\"samrt\",2',\n",
       "  'a',\n",
       "  'Z=\"Hello interns\"',\n",
       "  'Z[2]',\n",
       "  'Z[6]',\n",
       "  'Z[-1]',\n",
       "  'Z[-1] #reverse slicing ',\n",
       "  'Z[-7]',\n",
       "  'Z[-1] #reverse slicing ',\n",
       "  'Z[6:9]',\n",
       "  'dir(Z)',\n",
       "  'Z.upper()',\n",
       "  '#data structures',\n",
       "  \"p=[2.2,2,'ram','mohan']\",\n",
       "  'type(p)',\n",
       "  \"p=[2.2,2,'ram','mohan']\\np\",\n",
       "  'type(p)',\n",
       "  \"p=[2.2,2,'smartbridge','interns']\\np\",\n",
       "  'type(p)',\n",
       "  'p[0:2]',\n",
       "  'p[2]',\n",
       "  'type(p[2])',\n",
       "  'p[2:]',\n",
       "  'len(p)',\n",
       "  \"p.append('Rammoha')\",\n",
       "  'p',\n",
       "  \"p.append('Rammohan')\",\n",
       "  'p',\n",
       "  \"p.insert(2,'Mohan')\",\n",
       "  'p',\n",
       "  \"p.insert(2,'RSIP') #inserting elements in with location or index\",\n",
       "  'p',\n",
       "  \"p.insert(5,'Hello')\",\n",
       "  'p',\n",
       "  'p[7=smartbridge]',\n",
       "  'p[7]=smartbridge',\n",
       "  'p[7]=\"smartbridge\"',\n",
       "  'p',\n",
       "  \"p.count('smartbridge')\",\n",
       "  \"p.count('Rammohan')\",\n",
       "  'p.index(\"interns\")',\n",
       "  'p.index(\"samrtbridge\",5)',\n",
       "  'p.index(\"smartbridge\",5)',\n",
       "  'p.index(\"smartbridge\",4)',\n",
       "  'p.index(\"smartbridge\",5)',\n",
       "  \"p.remove('Mohan','Rammohan')\",\n",
       "  \"p.remove('Mohan')\",\n",
       "  \"p.remove('Rammohan')\",\n",
       "  'p',\n",
       "  'p.pop(0)  #pop method accept index numbers of it',\n",
       "  'p.pop(0)\\np\\n#pop method accept index numbers of it',\n",
       "  'p.pop(0)   #pop method accept index numbers of it',\n",
       "  'p',\n",
       "  'p.extend([\"Bethi rammohan\"],[\"ML engineer\"])',\n",
       "  'p.extend([\"Bethi rammohan\",\"ML engineer\"])',\n",
       "  'p',\n",
       "  'dir(p)',\n",
       "  \"a=(5,25,20,'RSIP')\",\n",
       "  'type(a)',\n",
       "  \"a=(5,25,20,'RSIP')\\na\",\n",
       "  'type(a)',\n",
       "  'a[0:2]',\n",
       "  'a[0:3]',\n",
       "  'a[1:3]',\n",
       "  'a[1]=52',\n",
       "  '#a[1]=52 #immutable',\n",
       "  'a=list(a)',\n",
       "  'a',\n",
       "  'a=tuple(a)',\n",
       "  'a',\n",
       "  'a.count(5)',\n",
       "  'len(a)',\n",
       "  'dir(a)',\n",
       "  'print(\"Size of a: \" + str(sys.getsizeof(a)) + \"bytes\") ',\n",
       "  'a.__sizeof__',\n",
       "  'a.__sizeof__()',\n",
       "  'cricket={\"captain\":\"virat\",\"keeper\":\"Dhoni\",\"Bowler\":\"Bhumrah\"}\\ncricket',\n",
       "  'type(cricket)',\n",
       "  'cricket.keys()',\n",
       "  'cricket.values()',\n",
       "  'dir(cricket)',\n",
       "  'cricekt[\"captain\"]',\n",
       "  'cricket[\"captain\"]',\n",
       "  \"cricket.get('captain')\",\n",
       "  'z={\"alphabet\":[\"a\",\"b\",\"c\"],\"Numbers\":[1,2,3]}',\n",
       "  'z={\"alphabet\":[\"a\",\"b\",\"c\"],\"Numbers\":[1,2,3]}\\nz',\n",
       "  'z.items()',\n",
       "  'cricket[\\'coach\\']=\"Ravi\"',\n",
       "  'cricket',\n",
       "  'new={\"Team\":\"India\",\"Game\":\"Cricket\"}',\n",
       "  'cricket.update(new)',\n",
       "  'cricket',\n",
       "  'num = input(\"Enter Number:\")\\nprint(num)',\n",
       "  'num = input(\"Enter Number:\")\\nprint(num)',\n",
       "  'num = int(input(\"Enter Number:\"))\\nprint(num)',\n",
       "  'num = input(\"Enter Number\")\\nprint(num)',\n",
       "  'num = input(\"Enter Number\")\\nprint(num)\\n\\n\\'\\'\\'num = int(input(\"Enter Number\"))\\nprint(num)\\'\\'\\'',\n",
       "  'num = input(\"Enter Number\")\\nprint(num)\\nif(num%2==0):\\n    print(\"num is even\")',\n",
       "  'num = int(input(\"Enter Number\"))\\nprint(num)\\nif(num%2==0):\\n    print(\"num is even\")',\n",
       "  'num = int(input(\"Enter Number\"))\\nprint(num)\\nif(num%2==0):\\n    print(num,\"is even\")',\n",
       "  'num = int(input(\"Enter Number\"))\\nprint(num)\\nif(num%2==0):\\n    print(num,\"is even\")\\n    print(\"still if\")\\nelse:\\n    print(num,\"is odd\")',\n",
       "  'num = int(input(\"Enter Number\"))\\nprint(num)\\nif(num%2==0):\\n    print(num,\"is even\")\\n    print(\"still if\")\\nelse:\\n    print(num,\"is odd\")\\n    print(\"In else\")\\nprint(\"out of indentation\")',\n",
       "  'num = int(input(\"Enter Number : \"))\\nprint(num)\\nif(num%2==0):\\n    print(num,\"is even\")\\n    print(\"still if\")\\nelse:\\n    print(num,\"is odd\")\\n    print(\"In else\")\\nprint(\"out of indentation\")',\n",
       "  'num = int(input(\"Enter Number : \"))\\nprint(num)\\nif(num%2==0):\\n    print(num,\"is even\")\\n    print(\"Still if\")\\nelse:\\n    print(num,\"is odd\")\\n    print(\"In else\")\\nprint(\"out of indentation\")',\n",
       "  'z=[1,2,3,4,5,6]\\n\\nfor i in z:\\n    print(i)',\n",
       "  'for i in range(0,100):\\n    print(i)',\n",
       "  'for i in z:\\n    print(i)',\n",
       "  'for a in range(0,51):\\n    print(a)',\n",
       "  'for a in range(0,51,2):\\n    print(a)',\n",
       "  'for a in range(0,51,3):\\n    print(a)',\n",
       "  'for a in range(0,51,4):\\n    print(a)',\n",
       "  'for a in range(0,51,10):\\n    print(a)',\n",
       "  'for a in range(51,0,-10): \\n    print(a)',\n",
       "  'for a in range(51,1,-10):  #decrementation step size\\n    print(a)',\n",
       "  'for a in range(51,0,-10):  #decrementation step size\\n    print(a)',\n",
       "  'num = int(input(\"Enter Number : \"))\\nprint(num)\\nif(num%2==0):\\n    print(num,\"is even\")\\n    print(\"Still if\")\\nelif(not(num%2==0)):\\n    print(num,\"is odd\")\\n    print(\"In else\")\\nprint(\"out of indentation\")',\n",
       "  'value = int(input(\"Enter Number : \"))\\nwhile(value<25):\\n    value=value+1\\n    print(value)\\nelse:\\n    print(\"out of while loop\")',\n",
       "  'value = int(input(\"Enter Number : \"))\\nwhile(value<25):\\n    value=value+1\\n    print(value)\\nelse:\\n    print(\"out of while loop\")',\n",
       "  'def hello():\\n    return \"this is rammohan\"',\n",
       "  'hello()',\n",
       "  'def add(a,b):\\n    sum=a+b\\n    print sum\\nz=add(20,30)',\n",
       "  'def add(a,b):\\n    sum=a+b\\n    print(sum)\\nz=add(20,30)',\n",
       "  'def addition(a,b):\\n    sum=a+b\\n    print(sum)\\nz=addition(20,30)',\n",
       "  'z',\n",
       "  'def addition(a=20,b=30):\\n    sum=a+b\\n    print(sum)\\nz=addition(70,30)',\n",
       "  'def f1():\\n    x=1\\n    print(locals())\\nf1()',\n",
       "  'def f1():\\n    x=1\\n    return(locals())\\nz=f1()\\nz',\n",
       "  'def f1():\\n    x=1\\n    return locals()\\nz=f1()\\nz',\n",
       "  \"z['x']\",\n",
       "  'x2=1\\ndef f2():\\n    print(locals())\\n    return x2\\nf1()',\n",
       "  'x2=1\\ndef f2():\\n    print(locals())\\n    return x2\\nf2()',\n",
       "  'globals()'],\n",
       " 'Out': {3: 15,\n",
       "  4: int,\n",
       "  7: float,\n",
       "  9: str,\n",
       "  12: 'ram',\n",
       "  14: 'l',\n",
       "  15: 'i',\n",
       "  16: 's',\n",
       "  17: 's',\n",
       "  18: 'i',\n",
       "  19: 's',\n",
       "  20: 'int',\n",
       "  21: ['__add__',\n",
       "   '__class__',\n",
       "   '__contains__',\n",
       "   '__delattr__',\n",
       "   '__dir__',\n",
       "   '__doc__',\n",
       "   '__eq__',\n",
       "   '__format__',\n",
       "   '__ge__',\n",
       "   '__getattribute__',\n",
       "   '__getitem__',\n",
       "   '__getnewargs__',\n",
       "   '__gt__',\n",
       "   '__hash__',\n",
       "   '__init__',\n",
       "   '__init_subclass__',\n",
       "   '__iter__',\n",
       "   '__le__',\n",
       "   '__len__',\n",
       "   '__lt__',\n",
       "   '__mod__',\n",
       "   '__mul__',\n",
       "   '__ne__',\n",
       "   '__new__',\n",
       "   '__reduce__',\n",
       "   '__reduce_ex__',\n",
       "   '__repr__',\n",
       "   '__rmod__',\n",
       "   '__rmul__',\n",
       "   '__setattr__',\n",
       "   '__sizeof__',\n",
       "   '__str__',\n",
       "   '__subclasshook__',\n",
       "   'capitalize',\n",
       "   'casefold',\n",
       "   'center',\n",
       "   'count',\n",
       "   'encode',\n",
       "   'endswith',\n",
       "   'expandtabs',\n",
       "   'find',\n",
       "   'format',\n",
       "   'format_map',\n",
       "   'index',\n",
       "   'isalnum',\n",
       "   'isalpha',\n",
       "   'isascii',\n",
       "   'isdecimal',\n",
       "   'isdigit',\n",
       "   'isidentifier',\n",
       "   'islower',\n",
       "   'isnumeric',\n",
       "   'isprintable',\n",
       "   'isspace',\n",
       "   'istitle',\n",
       "   'isupper',\n",
       "   'join',\n",
       "   'ljust',\n",
       "   'lower',\n",
       "   'lstrip',\n",
       "   'maketrans',\n",
       "   'partition',\n",
       "   'replace',\n",
       "   'rfind',\n",
       "   'rindex',\n",
       "   'rjust',\n",
       "   'rpartition',\n",
       "   'rsplit',\n",
       "   'rstrip',\n",
       "   'split',\n",
       "   'splitlines',\n",
       "   'startswith',\n",
       "   'strip',\n",
       "   'swapcase',\n",
       "   'title',\n",
       "   'translate',\n",
       "   'upper',\n",
       "   'zfill'],\n",
       "  22: 'HELLO INTERNS',\n",
       "  25: list,\n",
       "  26: [2.2, 2, 'ram', 'mohan'],\n",
       "  27: list,\n",
       "  28: ['smartbridge',\n",
       "   'Hello',\n",
       "   'interns',\n",
       "   'smartbridge',\n",
       "   'Bethi rammohan',\n",
       "   'ML engineer'],\n",
       "  29: list,\n",
       "  30: [2.2, 2],\n",
       "  31: 'smartbridge',\n",
       "  32: str,\n",
       "  33: ['smartbridge', 'interns'],\n",
       "  34: 4,\n",
       "  36: ['smartbridge',\n",
       "   'Hello',\n",
       "   'interns',\n",
       "   'smartbridge',\n",
       "   'Bethi rammohan',\n",
       "   'ML engineer'],\n",
       "  38: ['smartbridge',\n",
       "   'Hello',\n",
       "   'interns',\n",
       "   'smartbridge',\n",
       "   'Bethi rammohan',\n",
       "   'ML engineer'],\n",
       "  40: ['smartbridge',\n",
       "   'Hello',\n",
       "   'interns',\n",
       "   'smartbridge',\n",
       "   'Bethi rammohan',\n",
       "   'ML engineer'],\n",
       "  42: ['smartbridge',\n",
       "   'Hello',\n",
       "   'interns',\n",
       "   'smartbridge',\n",
       "   'Bethi rammohan',\n",
       "   'ML engineer'],\n",
       "  44: ['smartbridge',\n",
       "   'Hello',\n",
       "   'interns',\n",
       "   'smartbridge',\n",
       "   'Bethi rammohan',\n",
       "   'ML engineer'],\n",
       "  48: ['smartbridge',\n",
       "   'Hello',\n",
       "   'interns',\n",
       "   'smartbridge',\n",
       "   'Bethi rammohan',\n",
       "   'ML engineer'],\n",
       "  49: 2,\n",
       "  50: 1,\n",
       "  51: 6,\n",
       "  53: 7,\n",
       "  54: 4,\n",
       "  55: 7,\n",
       "  59: ['smartbridge',\n",
       "   'Hello',\n",
       "   'interns',\n",
       "   'smartbridge',\n",
       "   'Bethi rammohan',\n",
       "   'ML engineer'],\n",
       "  60: 2.2,\n",
       "  61: ['smartbridge',\n",
       "   'Hello',\n",
       "   'interns',\n",
       "   'smartbridge',\n",
       "   'Bethi rammohan',\n",
       "   'ML engineer'],\n",
       "  62: 'RSIP',\n",
       "  63: ['smartbridge',\n",
       "   'Hello',\n",
       "   'interns',\n",
       "   'smartbridge',\n",
       "   'Bethi rammohan',\n",
       "   'ML engineer'],\n",
       "  66: ['smartbridge',\n",
       "   'Hello',\n",
       "   'interns',\n",
       "   'smartbridge',\n",
       "   'Bethi rammohan',\n",
       "   'ML engineer'],\n",
       "  67: ['__add__',\n",
       "   '__class__',\n",
       "   '__contains__',\n",
       "   '__delattr__',\n",
       "   '__delitem__',\n",
       "   '__dir__',\n",
       "   '__doc__',\n",
       "   '__eq__',\n",
       "   '__format__',\n",
       "   '__ge__',\n",
       "   '__getattribute__',\n",
       "   '__getitem__',\n",
       "   '__gt__',\n",
       "   '__hash__',\n",
       "   '__iadd__',\n",
       "   '__imul__',\n",
       "   '__init__',\n",
       "   '__init_subclass__',\n",
       "   '__iter__',\n",
       "   '__le__',\n",
       "   '__len__',\n",
       "   '__lt__',\n",
       "   '__mul__',\n",
       "   '__ne__',\n",
       "   '__new__',\n",
       "   '__reduce__',\n",
       "   '__reduce_ex__',\n",
       "   '__repr__',\n",
       "   '__reversed__',\n",
       "   '__rmul__',\n",
       "   '__setattr__',\n",
       "   '__setitem__',\n",
       "   '__sizeof__',\n",
       "   '__str__',\n",
       "   '__subclasshook__',\n",
       "   'append',\n",
       "   'clear',\n",
       "   'copy',\n",
       "   'count',\n",
       "   'extend',\n",
       "   'index',\n",
       "   'insert',\n",
       "   'pop',\n",
       "   'remove',\n",
       "   'reverse',\n",
       "   'sort'],\n",
       "  69: tuple,\n",
       "  70: (5, 25, 20, 'RSIP'),\n",
       "  71: tuple,\n",
       "  72: (5, 25),\n",
       "  73: (5, 25, 20),\n",
       "  74: (25, 20),\n",
       "  78: [5, 25, 20, 'RSIP'],\n",
       "  80: (5, 25, 20, 'RSIP'),\n",
       "  81: 1,\n",
       "  82: 4,\n",
       "  83: ['__add__',\n",
       "   '__class__',\n",
       "   '__contains__',\n",
       "   '__delattr__',\n",
       "   '__dir__',\n",
       "   '__doc__',\n",
       "   '__eq__',\n",
       "   '__format__',\n",
       "   '__ge__',\n",
       "   '__getattribute__',\n",
       "   '__getitem__',\n",
       "   '__getnewargs__',\n",
       "   '__gt__',\n",
       "   '__hash__',\n",
       "   '__init__',\n",
       "   '__init_subclass__',\n",
       "   '__iter__',\n",
       "   '__le__',\n",
       "   '__len__',\n",
       "   '__lt__',\n",
       "   '__mul__',\n",
       "   '__ne__',\n",
       "   '__new__',\n",
       "   '__reduce__',\n",
       "   '__reduce_ex__',\n",
       "   '__repr__',\n",
       "   '__rmul__',\n",
       "   '__setattr__',\n",
       "   '__sizeof__',\n",
       "   '__str__',\n",
       "   '__subclasshook__',\n",
       "   'count',\n",
       "   'index'],\n",
       "  85: <function tuple.__sizeof__()>,\n",
       "  86: 56,\n",
       "  87: {'captain': 'virat',\n",
       "   'keeper': 'Dhoni',\n",
       "   'Bowler': 'Bhumrah',\n",
       "   'coach': 'Ravi',\n",
       "   'Team': 'India',\n",
       "   'Game': 'Cricket'},\n",
       "  88: dict,\n",
       "  89: dict_keys(['captain', 'keeper', 'Bowler', 'coach', 'Team', 'Game']),\n",
       "  90: dict_values(['virat', 'Dhoni', 'Bhumrah', 'Ravi', 'India', 'Cricket']),\n",
       "  91: ['__class__',\n",
       "   '__contains__',\n",
       "   '__delattr__',\n",
       "   '__delitem__',\n",
       "   '__dir__',\n",
       "   '__doc__',\n",
       "   '__eq__',\n",
       "   '__format__',\n",
       "   '__ge__',\n",
       "   '__getattribute__',\n",
       "   '__getitem__',\n",
       "   '__gt__',\n",
       "   '__hash__',\n",
       "   '__init__',\n",
       "   '__init_subclass__',\n",
       "   '__iter__',\n",
       "   '__le__',\n",
       "   '__len__',\n",
       "   '__lt__',\n",
       "   '__ne__',\n",
       "   '__new__',\n",
       "   '__reduce__',\n",
       "   '__reduce_ex__',\n",
       "   '__repr__',\n",
       "   '__setattr__',\n",
       "   '__setitem__',\n",
       "   '__sizeof__',\n",
       "   '__str__',\n",
       "   '__subclasshook__',\n",
       "   'clear',\n",
       "   'copy',\n",
       "   'fromkeys',\n",
       "   'get',\n",
       "   'items',\n",
       "   'keys',\n",
       "   'pop',\n",
       "   'popitem',\n",
       "   'setdefault',\n",
       "   'update',\n",
       "   'values'],\n",
       "  93: 'virat',\n",
       "  94: 'virat',\n",
       "  96: {'alphabet': ['a', 'b', 'c'], 'Numbers': [1, 2, 3]},\n",
       "  97: dict_items([('alphabet', ['a', 'b', 'c']), ('Numbers', [1, 2, 3])]),\n",
       "  99: {'captain': 'virat',\n",
       "   'keeper': 'Dhoni',\n",
       "   'Bowler': 'Bhumrah',\n",
       "   'coach': 'Ravi',\n",
       "   'Team': 'India',\n",
       "   'Game': 'Cricket'},\n",
       "  102: {'captain': 'virat',\n",
       "   'keeper': 'Dhoni',\n",
       "   'Bowler': 'Bhumrah',\n",
       "   'coach': 'Ravi',\n",
       "   'Team': 'India',\n",
       "   'Game': 'Cricket'},\n",
       "  107: 'num = int(input(\"Enter Number\"))\\nprint(num)',\n",
       "  130: 'this is rammohan',\n",
       "  137: {'x': 1},\n",
       "  138: {'x': 1},\n",
       "  139: 1,\n",
       "  140: {'x': 1},\n",
       "  141: 1},\n",
       " 'get_ipython': <bound method InteractiveShell.get_ipython of <ipykernel.zmqshell.ZMQInteractiveShell object at 0x00000151546E8588>>,\n",
       " 'exit': <IPython.core.autocall.ZMQExitAutocall at 0x15154703908>,\n",
       " 'quit': <IPython.core.autocall.ZMQExitAutocall at 0x15154703908>,\n",
       " '_': 1,\n",
       " '__': {'x': 1},\n",
       " '___': 1,\n",
       " 'LazyImport': pyforest._importable.LazyImport,\n",
       " 'pd': lazy pyforest.LazyImport for 'import pandas as pd',\n",
       " 'np': lazy pyforest.LazyImport for 'import numpy as np',\n",
       " 'dd': lazy pyforest.LazyImport for 'from dask import dataframe as dd',\n",
       " 'SparkContext': lazy pyforest.LazyImport for 'from pyspark import SparkContext',\n",
       " 'load_workbook': lazy pyforest.LazyImport for 'from openpyxl import load_workbook',\n",
       " 'mpl': lazy pyforest.LazyImport for 'import matplotlib as mpl',\n",
       " 'plt': lazy pyforest.LazyImport for 'import matplotlib.pyplot as plt',\n",
       " 'sns': lazy pyforest.LazyImport for 'import seaborn as sns',\n",
       " 'py': lazy pyforest.LazyImport for 'import plotly as py',\n",
       " 'go': lazy pyforest.LazyImport for 'import plotly.graph_objs as go',\n",
       " 'px': lazy pyforest.LazyImport for 'import plotly.express as px',\n",
       " 'dash': lazy pyforest.LazyImport for 'import dash',\n",
       " 'bokeh': lazy pyforest.LazyImport for 'import bokeh',\n",
       " 'alt': lazy pyforest.LazyImport for 'import altair as alt',\n",
       " 'pydot': lazy pyforest.LazyImport for 'import pydot',\n",
       " 'sklearn': lazy pyforest.LazyImport for 'import sklearn',\n",
       " 'OneHotEncoder': lazy pyforest.LazyImport for 'from sklearn.preprocessing import OneHotEncoder',\n",
       " 'tf': lazy pyforest.LazyImport for 'import tensorflow as tf',\n",
       " 'keras': lazy pyforest.LazyImport for 'import keras',\n",
       " 'nltk': lazy pyforest.LazyImport for 'import nltk',\n",
       " 'gensim': lazy pyforest.LazyImport for 'import gensim',\n",
       " 'spacy': lazy pyforest.LazyImport for 'import spacy',\n",
       " 'sys': active pyforest.LazyImport of <module 'sys' (built-in)>,\n",
       " 'os': lazy pyforest.LazyImport for 'import os',\n",
       " 're': lazy pyforest.LazyImport for 'import re',\n",
       " 'glob': lazy pyforest.LazyImport for 'import glob',\n",
       " 'Path': lazy pyforest.LazyImport for 'from pathlib import Path',\n",
       " 'pickle': lazy pyforest.LazyImport for 'import pickle',\n",
       " 'dt': lazy pyforest.LazyImport for 'import datetime as dt',\n",
       " 'tqdm': lazy pyforest.LazyImport for 'import tqdm',\n",
       " 'pandas_profiling': lazy pyforest.LazyImport for 'import pandas_profiling',\n",
       " 'eda': lazy pyforest.LazyImport for 'import edaviz as eda',\n",
       " 'lazy_imports': <function pyforest._imports.lazy_imports()>,\n",
       " 'active_imports': <function pyforest._imports.active_imports()>,\n",
       " '_i': 'x2=1\\ndef f2():\\n    print(locals())\\n    return x2\\nf2()',\n",
       " '_ii': 'x2=1\\ndef f2():\\n    print(locals())\\n    return x2\\nf1()',\n",
       " '_iii': \"z['x']\",\n",
       " '_i1': \"Print('Hello')\",\n",
       " '_i2': \"print('Hello')\",\n",
       " '_i3': 'a=15\\na',\n",
       " 'a': 1,\n",
       " '_3': 15,\n",
       " '_i4': 'type(a)',\n",
       " '_4': int,\n",
       " '_i5': 'a=15.5',\n",
       " '_i6': 'tpe(a)',\n",
       " '_i7': 'type(a)',\n",
       " '_7': float,\n",
       " '_i8': \"b = 'Rammohan'\",\n",
       " 'b': 'Rammohan',\n",
       " '_i9': 'type(b)',\n",
       " '_9': str,\n",
       " '_i10': 'a,z,c=\"ram\",\"samrt\",',\n",
       " '_i11': 'a,z,c=\"ram\",\"samrt\",2',\n",
       " 'z': {'x': 1},\n",
       " 'c': 2,\n",
       " '_i12': 'a',\n",
       " '_12': 'ram',\n",
       " '_i13': 'Z=\"Hello interns\"',\n",
       " 'Z': 'Hello interns',\n",
       " '_i14': 'Z[2]',\n",
       " '_14': 'l',\n",
       " '_i15': 'Z[6]',\n",
       " '_15': 'i',\n",
       " '_i16': 'Z[-1]',\n",
       " '_16': 's',\n",
       " '_i17': 'Z[-1] #reverse slicing ',\n",
       " '_17': 's',\n",
       " '_i18': 'Z[-7]',\n",
       " '_18': 'i',\n",
       " '_i19': 'Z[-1] #reverse slicing ',\n",
       " '_19': 's',\n",
       " '_i20': 'Z[6:9]',\n",
       " '_20': 'int',\n",
       " '_i21': 'dir(Z)',\n",
       " '_21': ['__add__',\n",
       "  '__class__',\n",
       "  '__contains__',\n",
       "  '__delattr__',\n",
       "  '__dir__',\n",
       "  '__doc__',\n",
       "  '__eq__',\n",
       "  '__format__',\n",
       "  '__ge__',\n",
       "  '__getattribute__',\n",
       "  '__getitem__',\n",
       "  '__getnewargs__',\n",
       "  '__gt__',\n",
       "  '__hash__',\n",
       "  '__init__',\n",
       "  '__init_subclass__',\n",
       "  '__iter__',\n",
       "  '__le__',\n",
       "  '__len__',\n",
       "  '__lt__',\n",
       "  '__mod__',\n",
       "  '__mul__',\n",
       "  '__ne__',\n",
       "  '__new__',\n",
       "  '__reduce__',\n",
       "  '__reduce_ex__',\n",
       "  '__repr__',\n",
       "  '__rmod__',\n",
       "  '__rmul__',\n",
       "  '__setattr__',\n",
       "  '__sizeof__',\n",
       "  '__str__',\n",
       "  '__subclasshook__',\n",
       "  'capitalize',\n",
       "  'casefold',\n",
       "  'center',\n",
       "  'count',\n",
       "  'encode',\n",
       "  'endswith',\n",
       "  'expandtabs',\n",
       "  'find',\n",
       "  'format',\n",
       "  'format_map',\n",
       "  'index',\n",
       "  'isalnum',\n",
       "  'isalpha',\n",
       "  'isascii',\n",
       "  'isdecimal',\n",
       "  'isdigit',\n",
       "  'isidentifier',\n",
       "  'islower',\n",
       "  'isnumeric',\n",
       "  'isprintable',\n",
       "  'isspace',\n",
       "  'istitle',\n",
       "  'isupper',\n",
       "  'join',\n",
       "  'ljust',\n",
       "  'lower',\n",
       "  'lstrip',\n",
       "  'maketrans',\n",
       "  'partition',\n",
       "  'replace',\n",
       "  'rfind',\n",
       "  'rindex',\n",
       "  'rjust',\n",
       "  'rpartition',\n",
       "  'rsplit',\n",
       "  'rstrip',\n",
       "  'split',\n",
       "  'splitlines',\n",
       "  'startswith',\n",
       "  'strip',\n",
       "  'swapcase',\n",
       "  'title',\n",
       "  'translate',\n",
       "  'upper',\n",
       "  'zfill'],\n",
       " '_i22': 'Z.upper()',\n",
       " '_22': 'HELLO INTERNS',\n",
       " '_i23': '#data structures',\n",
       " '_i24': \"p=[2.2,2,'ram','mohan']\",\n",
       " 'p': ['smartbridge',\n",
       "  'Hello',\n",
       "  'interns',\n",
       "  'smartbridge',\n",
       "  'Bethi rammohan',\n",
       "  'ML engineer'],\n",
       " '_i25': 'type(p)',\n",
       " '_25': list,\n",
       " '_i26': \"p=[2.2,2,'ram','mohan']\\np\",\n",
       " '_26': [2.2, 2, 'ram', 'mohan'],\n",
       " '_i27': 'type(p)',\n",
       " '_27': list,\n",
       " '_i28': \"p=[2.2,2,'smartbridge','interns']\\np\",\n",
       " '_28': ['smartbridge',\n",
       "  'Hello',\n",
       "  'interns',\n",
       "  'smartbridge',\n",
       "  'Bethi rammohan',\n",
       "  'ML engineer'],\n",
       " '_i29': 'type(p)',\n",
       " '_29': list,\n",
       " '_i30': 'p[0:2]',\n",
       " '_30': [2.2, 2],\n",
       " '_i31': 'p[2]',\n",
       " '_31': 'smartbridge',\n",
       " '_i32': 'type(p[2])',\n",
       " '_32': str,\n",
       " '_i33': 'p[2:]',\n",
       " '_33': ['smartbridge', 'interns'],\n",
       " '_i34': 'len(p)',\n",
       " '_34': 4,\n",
       " '_i35': \"p.append('Rammoha')\",\n",
       " '_i36': 'p',\n",
       " '_36': ['smartbridge',\n",
       "  'Hello',\n",
       "  'interns',\n",
       "  'smartbridge',\n",
       "  'Bethi rammohan',\n",
       "  'ML engineer'],\n",
       " '_i37': \"p.append('Rammohan')\",\n",
       " '_i38': 'p',\n",
       " '_38': ['smartbridge',\n",
       "  'Hello',\n",
       "  'interns',\n",
       "  'smartbridge',\n",
       "  'Bethi rammohan',\n",
       "  'ML engineer'],\n",
       " '_i39': \"p.insert(2,'Mohan')\",\n",
       " '_i40': 'p',\n",
       " '_40': ['smartbridge',\n",
       "  'Hello',\n",
       "  'interns',\n",
       "  'smartbridge',\n",
       "  'Bethi rammohan',\n",
       "  'ML engineer'],\n",
       " '_i41': \"p.insert(2,'RSIP') #inserting elements in with location or index\",\n",
       " '_i42': 'p',\n",
       " '_42': ['smartbridge',\n",
       "  'Hello',\n",
       "  'interns',\n",
       "  'smartbridge',\n",
       "  'Bethi rammohan',\n",
       "  'ML engineer'],\n",
       " '_i43': \"p.insert(5,'Hello')\",\n",
       " '_i44': 'p',\n",
       " '_44': ['smartbridge',\n",
       "  'Hello',\n",
       "  'interns',\n",
       "  'smartbridge',\n",
       "  'Bethi rammohan',\n",
       "  'ML engineer'],\n",
       " '_i45': 'p[7=smartbridge]',\n",
       " '_i46': 'p[7]=smartbridge',\n",
       " '_i47': 'p[7]=\"smartbridge\"',\n",
       " '_i48': 'p',\n",
       " '_48': ['smartbridge',\n",
       "  'Hello',\n",
       "  'interns',\n",
       "  'smartbridge',\n",
       "  'Bethi rammohan',\n",
       "  'ML engineer'],\n",
       " '_i49': \"p.count('smartbridge')\",\n",
       " '_49': 2,\n",
       " '_i50': \"p.count('Rammohan')\",\n",
       " '_50': 1,\n",
       " '_i51': 'p.index(\"interns\")',\n",
       " '_51': 6,\n",
       " '_i52': 'p.index(\"samrtbridge\",5)',\n",
       " '_i53': 'p.index(\"smartbridge\",5)',\n",
       " '_53': 7,\n",
       " '_i54': 'p.index(\"smartbridge\",4)',\n",
       " '_54': 4,\n",
       " '_i55': 'p.index(\"smartbridge\",5)',\n",
       " '_55': 7,\n",
       " '_i56': \"p.remove('Mohan','Rammohan')\",\n",
       " '_i57': \"p.remove('Mohan')\",\n",
       " '_i58': \"p.remove('Rammohan')\",\n",
       " '_i59': 'p',\n",
       " '_59': ['smartbridge',\n",
       "  'Hello',\n",
       "  'interns',\n",
       "  'smartbridge',\n",
       "  'Bethi rammohan',\n",
       "  'ML engineer'],\n",
       " '_i60': 'p.pop(0)  #pop method accept index numbers of it',\n",
       " '_60': 2.2,\n",
       " '_i61': 'p.pop(0)\\np\\n#pop method accept index numbers of it',\n",
       " '_61': ['smartbridge',\n",
       "  'Hello',\n",
       "  'interns',\n",
       "  'smartbridge',\n",
       "  'Bethi rammohan',\n",
       "  'ML engineer'],\n",
       " '_i62': 'p.pop(0)   #pop method accept index numbers of it',\n",
       " '_62': 'RSIP',\n",
       " '_i63': 'p',\n",
       " '_63': ['smartbridge',\n",
       "  'Hello',\n",
       "  'interns',\n",
       "  'smartbridge',\n",
       "  'Bethi rammohan',\n",
       "  'ML engineer'],\n",
       " '_i64': 'p.extend([\"Bethi rammohan\"],[\"ML engineer\"])',\n",
       " '_i65': 'p.extend([\"Bethi rammohan\",\"ML engineer\"])',\n",
       " '_i66': 'p',\n",
       " '_66': ['smartbridge',\n",
       "  'Hello',\n",
       "  'interns',\n",
       "  'smartbridge',\n",
       "  'Bethi rammohan',\n",
       "  'ML engineer'],\n",
       " '_i67': 'dir(p)',\n",
       " '_67': ['__add__',\n",
       "  '__class__',\n",
       "  '__contains__',\n",
       "  '__delattr__',\n",
       "  '__delitem__',\n",
       "  '__dir__',\n",
       "  '__doc__',\n",
       "  '__eq__',\n",
       "  '__format__',\n",
       "  '__ge__',\n",
       "  '__getattribute__',\n",
       "  '__getitem__',\n",
       "  '__gt__',\n",
       "  '__hash__',\n",
       "  '__iadd__',\n",
       "  '__imul__',\n",
       "  '__init__',\n",
       "  '__init_subclass__',\n",
       "  '__iter__',\n",
       "  '__le__',\n",
       "  '__len__',\n",
       "  '__lt__',\n",
       "  '__mul__',\n",
       "  '__ne__',\n",
       "  '__new__',\n",
       "  '__reduce__',\n",
       "  '__reduce_ex__',\n",
       "  '__repr__',\n",
       "  '__reversed__',\n",
       "  '__rmul__',\n",
       "  '__setattr__',\n",
       "  '__setitem__',\n",
       "  '__sizeof__',\n",
       "  '__str__',\n",
       "  '__subclasshook__',\n",
       "  'append',\n",
       "  'clear',\n",
       "  'copy',\n",
       "  'count',\n",
       "  'extend',\n",
       "  'index',\n",
       "  'insert',\n",
       "  'pop',\n",
       "  'remove',\n",
       "  'reverse',\n",
       "  'sort'],\n",
       " '_i68': \"a=(5,25,20,'RSIP')\",\n",
       " '_i69': 'type(a)',\n",
       " '_69': tuple,\n",
       " '_i70': \"a=(5,25,20,'RSIP')\\na\",\n",
       " '_70': (5, 25, 20, 'RSIP'),\n",
       " '_i71': 'type(a)',\n",
       " '_71': tuple,\n",
       " '_i72': 'a[0:2]',\n",
       " '_72': (5, 25),\n",
       " '_i73': 'a[0:3]',\n",
       " '_73': (5, 25, 20),\n",
       " '_i74': 'a[1:3]',\n",
       " '_74': (25, 20),\n",
       " '_i75': 'a[1]=52',\n",
       " '_i76': '#a[1]=52 #immutable',\n",
       " '_i77': 'a=list(a)',\n",
       " '_i78': 'a',\n",
       " '_78': [5, 25, 20, 'RSIP'],\n",
       " '_i79': 'a=tuple(a)',\n",
       " '_i80': 'a',\n",
       " '_80': (5, 25, 20, 'RSIP'),\n",
       " '_i81': 'a.count(5)',\n",
       " '_81': 1,\n",
       " '_i82': 'len(a)',\n",
       " '_82': 4,\n",
       " '_i83': 'dir(a)',\n",
       " '_83': ['__add__',\n",
       "  '__class__',\n",
       "  '__contains__',\n",
       "  '__delattr__',\n",
       "  '__dir__',\n",
       "  '__doc__',\n",
       "  '__eq__',\n",
       "  '__format__',\n",
       "  '__ge__',\n",
       "  '__getattribute__',\n",
       "  '__getitem__',\n",
       "  '__getnewargs__',\n",
       "  '__gt__',\n",
       "  '__hash__',\n",
       "  '__init__',\n",
       "  '__init_subclass__',\n",
       "  '__iter__',\n",
       "  '__le__',\n",
       "  '__len__',\n",
       "  '__lt__',\n",
       "  '__mul__',\n",
       "  '__ne__',\n",
       "  '__new__',\n",
       "  '__reduce__',\n",
       "  '__reduce_ex__',\n",
       "  '__repr__',\n",
       "  '__rmul__',\n",
       "  '__setattr__',\n",
       "  '__sizeof__',\n",
       "  '__str__',\n",
       "  '__subclasshook__',\n",
       "  'count',\n",
       "  'index'],\n",
       " '_i84': 'print(\"Size of a: \" + str(sys.getsizeof(a)) + \"bytes\") ',\n",
       " '_i85': 'a.__sizeof__',\n",
       " '_85': <function tuple.__sizeof__()>,\n",
       " '_i86': 'a.__sizeof__()',\n",
       " '_86': 56,\n",
       " '_i87': 'cricket={\"captain\":\"virat\",\"keeper\":\"Dhoni\",\"Bowler\":\"Bhumrah\"}\\ncricket',\n",
       " 'cricket': {'captain': 'virat',\n",
       "  'keeper': 'Dhoni',\n",
       "  'Bowler': 'Bhumrah',\n",
       "  'coach': 'Ravi',\n",
       "  'Team': 'India',\n",
       "  'Game': 'Cricket'},\n",
       " '_87': {'captain': 'virat',\n",
       "  'keeper': 'Dhoni',\n",
       "  'Bowler': 'Bhumrah',\n",
       "  'coach': 'Ravi',\n",
       "  'Team': 'India',\n",
       "  'Game': 'Cricket'},\n",
       " '_i88': 'type(cricket)',\n",
       " '_88': dict,\n",
       " '_i89': 'cricket.keys()',\n",
       " '_89': dict_keys(['captain', 'keeper', 'Bowler', 'coach', 'Team', 'Game']),\n",
       " '_i90': 'cricket.values()',\n",
       " '_90': dict_values(['virat', 'Dhoni', 'Bhumrah', 'Ravi', 'India', 'Cricket']),\n",
       " '_i91': 'dir(cricket)',\n",
       " '_91': ['__class__',\n",
       "  '__contains__',\n",
       "  '__delattr__',\n",
       "  '__delitem__',\n",
       "  '__dir__',\n",
       "  '__doc__',\n",
       "  '__eq__',\n",
       "  '__format__',\n",
       "  '__ge__',\n",
       "  '__getattribute__',\n",
       "  '__getitem__',\n",
       "  '__gt__',\n",
       "  '__hash__',\n",
       "  '__init__',\n",
       "  '__init_subclass__',\n",
       "  '__iter__',\n",
       "  '__le__',\n",
       "  '__len__',\n",
       "  '__lt__',\n",
       "  '__ne__',\n",
       "  '__new__',\n",
       "  '__reduce__',\n",
       "  '__reduce_ex__',\n",
       "  '__repr__',\n",
       "  '__setattr__',\n",
       "  '__setitem__',\n",
       "  '__sizeof__',\n",
       "  '__str__',\n",
       "  '__subclasshook__',\n",
       "  'clear',\n",
       "  'copy',\n",
       "  'fromkeys',\n",
       "  'get',\n",
       "  'items',\n",
       "  'keys',\n",
       "  'pop',\n",
       "  'popitem',\n",
       "  'setdefault',\n",
       "  'update',\n",
       "  'values'],\n",
       " '_i92': 'cricekt[\"captain\"]',\n",
       " '_i93': 'cricket[\"captain\"]',\n",
       " '_93': 'virat',\n",
       " '_i94': \"cricket.get('captain')\",\n",
       " '_94': 'virat',\n",
       " '_i95': 'z={\"alphabet\":[\"a\",\"b\",\"c\"],\"Numbers\":[1,2,3]}',\n",
       " '_i96': 'z={\"alphabet\":[\"a\",\"b\",\"c\"],\"Numbers\":[1,2,3]}\\nz',\n",
       " '_96': {'alphabet': ['a', 'b', 'c'], 'Numbers': [1, 2, 3]},\n",
       " '_i97': 'z.items()',\n",
       " '_97': dict_items([('alphabet', ['a', 'b', 'c']), ('Numbers', [1, 2, 3])]),\n",
       " '_i98': 'cricket[\\'coach\\']=\"Ravi\"',\n",
       " '_i99': 'cricket',\n",
       " '_99': {'captain': 'virat',\n",
       "  'keeper': 'Dhoni',\n",
       "  'Bowler': 'Bhumrah',\n",
       "  'coach': 'Ravi',\n",
       "  'Team': 'India',\n",
       "  'Game': 'Cricket'},\n",
       " '_i100': 'new={\"Team\":\"India\",\"Game\":\"Cricket\"}',\n",
       " 'new': {'Team': 'India', 'Game': 'Cricket'},\n",
       " '_i101': 'cricket.update(new)',\n",
       " '_i102': 'cricket',\n",
       " '_102': {'captain': 'virat',\n",
       "  'keeper': 'Dhoni',\n",
       "  'Bowler': 'Bhumrah',\n",
       "  'coach': 'Ravi',\n",
       "  'Team': 'India',\n",
       "  'Game': 'Cricket'},\n",
       " '_i103': 'num = input(\"Enter Number:\")\\nprint(num)',\n",
       " 'num': 63,\n",
       " '_i104': 'num = input(\"Enter Number:\")\\nprint(num)',\n",
       " '_i105': 'num = int(input(\"Enter Number:\"))\\nprint(num)',\n",
       " '_i106': 'num = input(\"Enter Number\")\\nprint(num)',\n",
       " '_i107': 'num = input(\"Enter Number\")\\nprint(num)\\n\\n\\'\\'\\'num = int(input(\"Enter Number\"))\\nprint(num)\\'\\'\\'',\n",
       " '_107': 'num = int(input(\"Enter Number\"))\\nprint(num)',\n",
       " '_i108': 'num = input(\"Enter Number\")\\nprint(num)\\nif(num%2==0):\\n    print(\"num is even\")',\n",
       " '_i109': 'num = int(input(\"Enter Number\"))\\nprint(num)\\nif(num%2==0):\\n    print(\"num is even\")',\n",
       " '_i110': 'num = int(input(\"Enter Number\"))\\nprint(num)\\nif(num%2==0):\\n    print(num,\"is even\")',\n",
       " '_i111': 'num = int(input(\"Enter Number\"))\\nprint(num)\\nif(num%2==0):\\n    print(num,\"is even\")\\n    print(\"still if\")\\nelse:\\n    print(num,\"is odd\")',\n",
       " '_i112': 'num = int(input(\"Enter Number\"))\\nprint(num)\\nif(num%2==0):\\n    print(num,\"is even\")\\n    print(\"still if\")\\nelse:\\n    print(num,\"is odd\")\\n    print(\"In else\")\\nprint(\"out of indentation\")',\n",
       " '_i113': 'num = int(input(\"Enter Number : \"))\\nprint(num)\\nif(num%2==0):\\n    print(num,\"is even\")\\n    print(\"still if\")\\nelse:\\n    print(num,\"is odd\")\\n    print(\"In else\")\\nprint(\"out of indentation\")',\n",
       " '_i114': 'num = int(input(\"Enter Number : \"))\\nprint(num)\\nif(num%2==0):\\n    print(num,\"is even\")\\n    print(\"Still if\")\\nelse:\\n    print(num,\"is odd\")\\n    print(\"In else\")\\nprint(\"out of indentation\")',\n",
       " '_i115': 'z=[1,2,3,4,5,6]\\n\\nfor i in z:\\n    print(i)',\n",
       " 'i': 6,\n",
       " '_i116': 'for i in range(0,100):\\n    print(i)',\n",
       " '_i117': 'for i in z:\\n    print(i)',\n",
       " '_i118': 'for a in range(0,51):\\n    print(a)',\n",
       " '_i119': 'for a in range(0,51,2):\\n    print(a)',\n",
       " '_i120': 'for a in range(0,51,3):\\n    print(a)',\n",
       " '_i121': 'for a in range(0,51,4):\\n    print(a)',\n",
       " '_i122': 'for a in range(0,51,10):\\n    print(a)',\n",
       " '_i123': 'for a in range(51,0,-10): \\n    print(a)',\n",
       " '_i124': 'for a in range(51,1,-10):  #decrementation step size\\n    print(a)',\n",
       " '_i125': 'for a in range(51,0,-10):  #decrementation step size\\n    print(a)',\n",
       " '_i126': 'num = int(input(\"Enter Number : \"))\\nprint(num)\\nif(num%2==0):\\n    print(num,\"is even\")\\n    print(\"Still if\")\\nelif(not(num%2==0)):\\n    print(num,\"is odd\")\\n    print(\"In else\")\\nprint(\"out of indentation\")',\n",
       " '_i127': 'value = int(input(\"Enter Number : \"))\\nwhile(value<25):\\n    value=value+1\\n    print(value)\\nelse:\\n    print(\"out of while loop\")',\n",
       " 'value': 26,\n",
       " '_i128': 'value = int(input(\"Enter Number : \"))\\nwhile(value<25):\\n    value=value+1\\n    print(value)\\nelse:\\n    print(\"out of while loop\")',\n",
       " '_i129': 'def hello():\\n    return \"this is rammohan\"',\n",
       " 'hello': <function __main__.hello()>,\n",
       " '_i130': 'hello()',\n",
       " '_130': 'this is rammohan',\n",
       " '_i131': 'def add(a,b):\\n    sum=a+b\\n    print sum\\nz=add(20,30)',\n",
       " '_i132': 'def add(a,b):\\n    sum=a+b\\n    print(sum)\\nz=add(20,30)',\n",
       " 'add': <function __main__.add(a, b)>,\n",
       " '_i133': 'def addition(a,b):\\n    sum=a+b\\n    print(sum)\\nz=addition(20,30)',\n",
       " 'addition': <function __main__.addition(a=20, b=30)>,\n",
       " '_i134': 'z',\n",
       " '_i135': 'def addition(a=20,b=30):\\n    sum=a+b\\n    print(sum)\\nz=addition(70,30)',\n",
       " '_i136': 'def f1():\\n    x=1\\n    print(locals())\\nf1()',\n",
       " 'f1': <function __main__.f1()>,\n",
       " '_i137': 'def f1():\\n    x=1\\n    return(locals())\\nz=f1()\\nz',\n",
       " '_137': {'x': 1},\n",
       " '_i138': 'def f1():\\n    x=1\\n    return locals()\\nz=f1()\\nz',\n",
       " '_138': {'x': 1},\n",
       " '_i139': \"z['x']\",\n",
       " '_139': 1,\n",
       " '_i140': 'x2=1\\ndef f2():\\n    print(locals())\\n    return x2\\nf1()',\n",
       " 'x2': 1,\n",
       " 'f2': <function __main__.f2()>,\n",
       " '_140': {'x': 1},\n",
       " '_i141': 'x2=1\\ndef f2():\\n    print(locals())\\n    return x2\\nf2()',\n",
       " '_141': 1,\n",
       " '_i142': 'globals()'}"
      ]
     },
     "execution_count": 142,
     "metadata": {},
     "output_type": "execute_result"
    }
   ],
   "source": [
    "globals()"
   ]
  },
  {
   "cell_type": "markdown",
   "metadata": {},
   "source": [
    "# exception handling"
   ]
  },
  {
   "cell_type": "code",
   "execution_count": 144,
   "metadata": {},
   "outputs": [
    {
     "ename": "ZeroDivisionError",
     "evalue": "division by zero",
     "output_type": "error",
     "traceback": [
      "\u001b[1;31m---------------------------------------------------------------------------\u001b[0m",
      "\u001b[1;31mZeroDivisionError\u001b[0m                         Traceback (most recent call last)",
      "\u001b[1;32m<ipython-input-144-c11c38641e35>\u001b[0m in \u001b[0;36m<module>\u001b[1;34m\u001b[0m\n\u001b[1;32m----> 1\u001b[1;33m \u001b[0mprint\u001b[0m\u001b[1;33m(\u001b[0m\u001b[1;36m10\u001b[0m\u001b[1;33m/\u001b[0m\u001b[1;36m0\u001b[0m\u001b[1;33m)\u001b[0m\u001b[1;33m\u001b[0m\u001b[1;33m\u001b[0m\u001b[0m\n\u001b[0m\u001b[0;32m      2\u001b[0m \u001b[0mprint\u001b[0m \u001b[1;33m(\u001b[0m\u001b[1;34m\"normal\"\u001b[0m\u001b[1;33m)\u001b[0m\u001b[1;33m\u001b[0m\u001b[1;33m\u001b[0m\u001b[0m\n",
      "\u001b[1;31mZeroDivisionError\u001b[0m: division by zero"
     ]
    }
   ],
   "source": [
    "print(10/0)\n",
    "print (\"normal\")"
   ]
  },
  {
   "cell_type": "code",
   "execution_count": 146,
   "metadata": {},
   "outputs": [
    {
     "name": "stdout",
     "output_type": "stream",
     "text": [
      "enter neumarator :40\n",
      "enter denominator :20\n",
      "2.0\n",
      "normal flow\n"
     ]
    }
   ],
   "source": [
    "a=int(input(\"enter neumarator :\"))\n",
    "b=int(input(\"enter denominator :\"))\n",
    "try:\n",
    "    print(a/b)\n",
    "except ZeroDivisionError:\n",
    "    print(\"do not devide give another number\")\n",
    "print(\"normal flow\")"
   ]
  },
  {
   "cell_type": "code",
   "execution_count": 150,
   "metadata": {},
   "outputs": [
    {
     "name": "stdout",
     "output_type": "stream",
     "text": [
      "enter neumarator :10\n",
      "enter denominator :ram\n",
      "invalid literal for int() with base 10: 'ram'\n",
      "normal flow\n"
     ]
    }
   ],
   "source": [
    "try:\n",
    "    a=int(input(\"enter neumarator :\"))\n",
    "    b=int(input(\"enter denominator :\"))\n",
    "    print(a/b)\n",
    "except Exception as z:\n",
    "    print(z)\n",
    "print('normal flow')"
   ]
  },
  {
   "cell_type": "markdown",
   "metadata": {},
   "source": [
    "# Oops"
   ]
  },
  {
   "cell_type": "code",
   "execution_count": 151,
   "metadata": {},
   "outputs": [],
   "source": [
    "class car:\n",
    "    \"hello i am a car class\"\n",
    "    a=20\n",
    "    def method(self):\n",
    "        return \"i am a method\"\n",
    "    def test(self):\n",
    "        print(\"This is test\")"
   ]
  },
  {
   "cell_type": "code",
   "execution_count": 152,
   "metadata": {},
   "outputs": [],
   "source": [
    "z=car()"
   ]
  },
  {
   "cell_type": "code",
   "execution_count": 153,
   "metadata": {},
   "outputs": [
    {
     "data": {
      "text/plain": [
       "20"
      ]
     },
     "execution_count": 153,
     "metadata": {},
     "output_type": "execute_result"
    }
   ],
   "source": [
    "z.a"
   ]
  },
  {
   "cell_type": "code",
   "execution_count": 154,
   "metadata": {},
   "outputs": [
    {
     "data": {
      "text/plain": [
       "'i am a method'"
      ]
     },
     "execution_count": 154,
     "metadata": {},
     "output_type": "execute_result"
    }
   ],
   "source": [
    "z.method()"
   ]
  },
  {
   "cell_type": "code",
   "execution_count": 155,
   "metadata": {},
   "outputs": [
    {
     "name": "stdout",
     "output_type": "stream",
     "text": [
      "This is test\n"
     ]
    }
   ],
   "source": [
    "z.test()"
   ]
  },
  {
   "cell_type": "code",
   "execution_count": 156,
   "metadata": {},
   "outputs": [
    {
     "name": "stdout",
     "output_type": "stream",
     "text": [
      "This is test\n"
     ]
    }
   ],
   "source": [
    "p=z.test()"
   ]
  },
  {
   "cell_type": "code",
   "execution_count": 160,
   "metadata": {},
   "outputs": [],
   "source": [
    "class x:\n",
    "    p=50\n",
    "    z=12\n",
    "    def __init__(self,a,b):\n",
    "        self.p=a\n",
    "        self.z=b\n",
    "        print(\"constructor Invoked\")\n",
    "    def add(self,a,b):\n",
    "        a=a+b\n",
    "        return a"
   ]
  },
  {
   "cell_type": "code",
   "execution_count": 161,
   "metadata": {},
   "outputs": [
    {
     "name": "stdout",
     "output_type": "stream",
     "text": [
      "constructor Invoked\n"
     ]
    }
   ],
   "source": [
    "obj=x(20,30)"
   ]
  },
  {
   "cell_type": "code",
   "execution_count": 162,
   "metadata": {},
   "outputs": [
    {
     "data": {
      "text/plain": [
       "100"
      ]
     },
     "execution_count": 162,
     "metadata": {},
     "output_type": "execute_result"
    }
   ],
   "source": [
    "obj.add(40,60)"
   ]
  },
  {
   "cell_type": "code",
   "execution_count": 163,
   "metadata": {},
   "outputs": [
    {
     "data": {
      "text/plain": [
       "20"
      ]
     },
     "execution_count": 163,
     "metadata": {},
     "output_type": "execute_result"
    }
   ],
   "source": [
    "obj.p"
   ]
  },
  {
   "cell_type": "code",
   "execution_count": 164,
   "metadata": {},
   "outputs": [
    {
     "data": {
      "text/plain": [
       "50"
      ]
     },
     "execution_count": 164,
     "metadata": {},
     "output_type": "execute_result"
    }
   ],
   "source": [
    "x.p"
   ]
  },
  {
   "cell_type": "code",
   "execution_count": 165,
   "metadata": {},
   "outputs": [],
   "source": [
    "#inheritance"
   ]
  },
  {
   "cell_type": "code",
   "execution_count": null,
   "metadata": {},
   "outputs": [],
   "source": []
  }
 ],
 "metadata": {
  "kernelspec": {
   "display_name": "Python 3",
   "language": "python",
   "name": "python3"
  },
  "language_info": {
   "codemirror_mode": {
    "name": "ipython",
    "version": 3
   },
   "file_extension": ".py",
   "mimetype": "text/x-python",
   "name": "python",
   "nbconvert_exporter": "python",
   "pygments_lexer": "ipython3",
   "version": "3.7.3"
  }
 },
 "nbformat": 4,
 "nbformat_minor": 2
}
